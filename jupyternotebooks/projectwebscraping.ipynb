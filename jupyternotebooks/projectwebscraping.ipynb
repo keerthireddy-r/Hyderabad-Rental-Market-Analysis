{
 "cells": [
  {
   "cell_type": "markdown",
   "id": "2f5a9e90-fb44-4fb0-bb55-a3cc1106cba8",
   "metadata": {},
   "source": [
    "# 🏙️ Hyderabad Rental Market Data Scraper\n",
    "\n",
    "### *Author:* Ramasahayam Keerthi Reddy  \n",
    "**Description:**  \n",
    "This project scrapes rental property data from [Housing.com](https://housing.com) for **Hyderabad, Telangana**, using Python’s `requests` and `BeautifulSoup` libraries.  \n",
    "The extracted data includes **price, area, furnishing status, locality, and key amenities**, which is then saved as a structured **CSV file** for further analysis.\n",
    "\n",
    "---\n",
    "\n"
   ]
  },
  {
   "cell_type": "markdown",
   "id": "8c026276-1693-4aff-bdc3-65fed8e47d08",
   "metadata": {},
   "source": [
    "## 🔗 Importing Required Libraries\n"
   ]
  },
  {
   "cell_type": "code",
   "execution_count": 11,
   "id": "75654c81-d3f5-48df-9a81-1866e09cedd1",
   "metadata": {},
   "outputs": [],
   "source": [
    "import requests\n",
    "from bs4 import BeautifulSoup\n",
    "import re"
   ]
  },
  {
   "cell_type": "markdown",
   "id": "dcdd8796-0059-4711-bda7-0d3302d61108",
   "metadata": {},
   "source": [
    "## 🌐 Step 1: Generating Page URLs\n"
   ]
  },
  {
   "cell_type": "code",
   "execution_count": 12,
   "id": "31744051-be42-440f-9d4b-3f491b67140c",
   "metadata": {},
   "outputs": [],
   "source": [
    "urls=[\"https://housing.com/rent/house-for-rent-in-hyderabad-telangana-M2P679xe73u28050522\"]"
   ]
  },
  {
   "cell_type": "code",
   "execution_count": 13,
   "id": "95b654f5-c8d9-4f50-b45c-2f4dc1fa5565",
   "metadata": {},
   "outputs": [],
   "source": [
    "for i in range(2,101):\n",
    "    urls.append(\"https://housing.com/rent/flats-for-rent-in-hyderabad-telangana-P679xe73u28050522?page=\"+str(i))"
   ]
  },
  {
   "cell_type": "markdown",
   "id": "b9cb397c-9cc4-4bf9-bae7-554c6fe5c15e",
   "metadata": {},
   "source": [
    "## 🧾 Step 2: Initializing Data Storage Lists\n"
   ]
  },
  {
   "cell_type": "code",
   "execution_count": 14,
   "id": "62b5ccc9-931b-4384-9d35-b0fc6e1848f5",
   "metadata": {},
   "outputs": [],
   "source": [
    "no_of_rooms=[]\n",
    "unit_type=[]\n",
    "property_category=[]\n",
    "locality=[]\n",
    "society_name=[]\n",
    "price=[]\n",
    "area_sqft=[]\n",
    "furnishing_status=[]\n",
    "pool=[]\n",
    "gym=[]\n",
    "Parking=[]\n",
    "Lift=[]\n",
    "Close_to_Hospital=[]\n",
    "power_backup=[]\n",
    "Kids_Area=[]\n",
    "Security=[]"
   ]
  },
  {
   "cell_type": "markdown",
   "id": "e5ac6f67-69dc-48e6-bb23-28e23d9fa45f",
   "metadata": {},
   "source": [
    "## 🧠 Step 3: Defining HTTP Request Headers\n"
   ]
  },
  {
   "cell_type": "code",
   "execution_count": 15,
   "id": "0c0103ed-bd97-407b-b526-5f3eeca63f6e",
   "metadata": {},
   "outputs": [],
   "source": [
    "headers = {\n",
    "    \"Accept\": \"text/html,application/xhtml+xml,application/xml;q=0.9,image/avif,image/webp,image/apng,*/*;q=0.8,application/signed-exchange;v=b3;q=0.7\",\n",
    "    \"Accept-Encoding\": \"gzip, deflate, br, zstd\",\n",
    "    \"Accept-Language\": \"en-US,en;q=0.9\",\n",
    "    \"Cache-Control\": \"max-age=0\",\n",
    "    \"Referer\": \"https://in.search.yahoo.com/\",\n",
    "    \"Sec-CH-UA\": '\"Google Chrome\";v=\"141\", \"Not?A_Brand\";v=\"8\", \"Chromium\";v=\"141\"',\n",
    "    \"Sec-CH-UA-Mobile\": \"?0\",\n",
    "    \"Sec-CH-UA-Platform\": '\"Windows\"',\n",
    "    \"Sec-Fetch-Dest\": \"document\",\n",
    "    \"Sec-Fetch-Mode\": \"navigate\",\n",
    "    \"Sec-Fetch-Site\": \"cross-site\",\n",
    "    \"Sec-Fetch-User\": \"?1\",\n",
    "    \"Upgrade-Insecure-Requests\": \"1\",\n",
    "    \"User-Agent\": \"Mozilla/5.0 (Windows NT 10.0; Win64; x64) AppleWebKit/537.36 (KHTML, like Gecko) Chrome/141.0.0.0 Safari/537.36\",\n",
    "    \"Cookie\": \"Akamai-GRN=aka-0.acf03517.1759478128.378448dd; category=residential; ... (trimmed)\"\n",
    "}"
   ]
  },
  {
   "cell_type": "markdown",
   "id": "f577d1ad-4fa0-4283-bd9b-d2ee11f3def4",
   "metadata": {},
   "source": [
    "## 🕷️ Step 4: Extracting Data from Housing.com"
   ]
  },
  {
   "cell_type": "markdown",
   "id": "b7e913c8-edd9-4799-8455-31e56075086a",
   "metadata": {},
   "source": [
    "### - Extracting Number of Rooms and Unit Type"
   ]
  },
  {
   "cell_type": "code",
   "execution_count": 6,
   "id": "c89a3f58-f5ab-45dd-aef0-1c2eb162cd37",
   "metadata": {},
   "outputs": [],
   "source": [
    "for url in urls:\n",
    "    resp=requests.get(url,headers=headers)\n",
    "    soup=BeautifulSoup(resp.text,\"html.parser\")\n",
    "    a=soup.find_all(\"div\",class_=\"infoTopContainer\")\n",
    "    for i in a:\n",
    "        no_of_rooms.append(re.split(r'(\\bBHK\\b|\\bRK\\b)', i.text)[0])\n",
    "    for i in a:\n",
    "        unit_type.append(re.split(r'(\\bBHK\\b|\\bRK\\b)', i.text)[1])\n",
    "    "
   ]
  },
  {
   "cell_type": "markdown",
   "id": "e8122e21-6a07-4146-865a-189933c80ba3",
   "metadata": {},
   "source": [
    "### - Extracting Property Category"
   ]
  },
  {
   "cell_type": "code",
   "execution_count": 147,
   "id": "f28662b4-1a5c-4f0e-bebe-97202aeb130f",
   "metadata": {},
   "outputs": [],
   "source": [
    "for url in urls:\n",
    "    resp=requests.get(url,headers=headers)\n",
    "    soup=BeautifulSoup(resp.text,\"html.parser\")\n",
    "    a=soup.find_all(\"div\",class_=\"infoTopContainer\")\n",
    "    for i in a:\n",
    "        property_category.append(i.text.split('for rent')[0].split()[2])"
   ]
  },
  {
   "cell_type": "markdown",
   "id": "cd1b5586-eace-4419-b092-95409fd02b57",
   "metadata": {},
   "source": [
    "### - Extracting Locality & Society Name"
   ]
  },
  {
   "cell_type": "code",
   "execution_count": 149,
   "id": "9ddbdc1d-9878-4e6c-88ef-f91bc7e58518",
   "metadata": {},
   "outputs": [],
   "source": [
    "for url in urls:\n",
    "    resp=requests.get(url,headers=headers)\n",
    "    soup=BeautifulSoup(resp.text,\"html.parser\")\n",
    "    a=soup.find_all(\"div\",class_=\"infoTopContainer\")\n",
    "    for i in a:\n",
    "        locality.append(i.text.split('  ')[0].split('for rent in')[-1])"
   ]
  },
  {
   "cell_type": "code",
   "execution_count": 156,
   "id": "e68df1d6-e37b-41ce-8424-12eca22677cc",
   "metadata": {},
   "outputs": [],
   "source": [
    "for url in urls:\n",
    "    resp=requests.get(url,headers=headers)\n",
    "    soup=BeautifulSoup(resp.text,\"html.parser\")\n",
    "    a=soup.find_all(\"div\",class_=\"infoTopContainer\")\n",
    "    for i in a:\n",
    "        society_name.append(i.text.split('₹')[0].split(\"  \")[-1])"
   ]
  },
  {
   "cell_type": "markdown",
   "id": "b7cd4edb-0a87-469d-ba6f-5fe91bb893b7",
   "metadata": {},
   "source": [
    "### - Extracting Price and Area"
   ]
  },
  {
   "cell_type": "code",
   "execution_count": 159,
   "id": "ed73c3b7-408c-47fa-ab23-d3320ee40323",
   "metadata": {},
   "outputs": [],
   "source": [
    "for url in urls:\n",
    "    resp=requests.get(url,headers=headers)\n",
    "    soup=BeautifulSoup(resp.text,\"html.parser\")\n",
    "    a=soup.find_all(\"div\",class_=\"infoTopContainer\")\n",
    "    for i in a:\n",
    "        price.append(i.text.split('₹')[1].split(\"see\")[0])"
   ]
  },
  {
   "cell_type": "code",
   "execution_count": 162,
   "id": "760ed858-b62c-47bc-beef-1c15c1eb2c55",
   "metadata": {},
   "outputs": [],
   "source": [
    "for url in urls:\n",
    "    resp=requests.get(url,headers=headers)\n",
    "    soup=BeautifulSoup(resp.text,\"html.parser\")\n",
    "    a=soup.find_all(\"div\",class_=\"infoTopContainer\")\n",
    "    for i in a:\n",
    "        area_sqft.append(i.text.split(\"breakup\")[1].split()[0])"
   ]
  },
  {
   "cell_type": "markdown",
   "id": "bf28115f-3227-45ba-8c7c-b39733a7bd17",
   "metadata": {},
   "source": [
    "### - Extracting Furnishing Status"
   ]
  },
  {
   "cell_type": "code",
   "execution_count": 164,
   "id": "7bcf5940-3668-45f3-846f-b277c8cd1962",
   "metadata": {},
   "outputs": [],
   "source": [
    "for url in urls:\n",
    "    resp=requests.get(url,headers=headers)\n",
    "    soup=BeautifulSoup(resp.text,\"html.parser\")\n",
    "    a=soup.find_all(\"div\",class_=\"infoTopContainer\")\n",
    "    for i in a:\n",
    "        furnishing_status.append(i.text.split(\"Furnishing status\")[0].split(\"sq.ftBuiltup\")[-1])"
   ]
  },
  {
   "cell_type": "markdown",
   "id": "d7e1ffbf-0e28-4cee-b86f-e8ef84759946",
   "metadata": {},
   "source": [
    "### - Extracting Amenities (Gym, Pool, Parking, etc.)"
   ]
  },
  {
   "cell_type": "code",
   "execution_count": 165,
   "id": "fd11c637-0995-4cdf-8489-605c61c99158",
   "metadata": {},
   "outputs": [],
   "source": [
    "for url in urls:\n",
    "    resp=requests.get(url,headers=headers)\n",
    "    soup=BeautifulSoup(resp.text,\"html.parser\")\n",
    "    a=soup.find_all(\"div\",class_=\"infoTopContainer\")\n",
    "    for i in a:\n",
    "        if re.findall(r\"\\bGym\",i.text)==['Gym']:\n",
    "            gym.append(\"Yes\")\n",
    "        else:\n",
    "            gym.append(\"No\")"
   ]
  },
  {
   "cell_type": "code",
   "execution_count": 167,
   "id": "24b1ee48-13c9-4369-8c7b-493585de4fba",
   "metadata": {},
   "outputs": [],
   "source": [
    "for url in urls:\n",
    "    resp=requests.get(url,headers=headers)\n",
    "    soup=BeautifulSoup(resp.text,\"html.parser\")\n",
    "    a=soup.find_all(\"div\",class_=\"infoTopContainer\")\n",
    "    for i in a:\n",
    "        if re.findall(r\"\\bPoo\\w+\",i.text)==['Pool']:\n",
    "            pool.append(\"Yes\")\n",
    "        else:\n",
    "            pool.append(\"No\")"
   ]
  },
  {
   "cell_type": "code",
   "execution_count": 170,
   "id": "436e1f1d-3f24-4fd1-b248-651e25939205",
   "metadata": {},
   "outputs": [],
   "source": [
    "for url in urls:\n",
    "    resp=requests.get(url,headers=headers)\n",
    "    soup=BeautifulSoup(resp.text,\"html.parser\")\n",
    "    a=soup.find_all(\"div\",class_=\"infoTopContainer\")\n",
    "    for i in a:\n",
    "        if re.findall(r\"\\bLift\",i.text)==['Lift']:\n",
    "            Lift.append(\"Yes\")\n",
    "        else:\n",
    "            Lift.append(\"No\")"
   ]
  },
  {
   "cell_type": "code",
   "execution_count": 171,
   "id": "b18053ee-c5dd-473d-88e9-e05bc3bbb2ea",
   "metadata": {},
   "outputs": [],
   "source": [
    "for url in urls:\n",
    "    resp=requests.get(url,headers=headers)\n",
    "    soup=BeautifulSoup(resp.text,\"html.parser\")\n",
    "    a=soup.find_all(\"div\",class_=\"infoTopContainer\")\n",
    "    for i in a:\n",
    "        if re.findall(r\"\\bParking\",i.text)==['Parking']:\n",
    "            Parking.append(\"Yes\")\n",
    "        else:\n",
    "            Parking.append(\"No\")"
   ]
  },
  {
   "cell_type": "code",
   "execution_count": 172,
   "id": "4daa1f34-d4b7-4fe3-b5ed-9d559c31bf50",
   "metadata": {},
   "outputs": [],
   "source": [
    "for url in urls:\n",
    "    resp=requests.get(url,headers=headers)\n",
    "    soup=BeautifulSoup(resp.text,\"html.parser\")\n",
    "    a=soup.find_all(\"div\",class_=\"infoTopContainer\")\n",
    "    for i in a:\n",
    "        if re.findall(r\"\\bClose to Hospital\",i.text)==['Close to Hospital']:\n",
    "            Close_to_Hospital.append(\"Yes\")\n",
    "        else:\n",
    "            Close_to_Hospital.append(\"No\")"
   ]
  },
  {
   "cell_type": "code",
   "execution_count": 122,
   "id": "b545143b-fd5d-46a4-80b3-3091770f04fd",
   "metadata": {},
   "outputs": [],
   "source": [
    "for url in urls:\n",
    "    resp=requests.get(url,headers=headers)\n",
    "    soup=BeautifulSoup(resp.text,\"html.parser\")\n",
    "    a=soup.find_all(\"div\",class_=\"infoTopContainer\")\n",
    "    for i in a:\n",
    "        if re.findall(r\"\\bPower Backup\",i.text)==['Power Backup']:\n",
    "            power_backup.append(\"Yes\")\n",
    "        else:\n",
    "            power_backup.append(\"No\")"
   ]
  },
  {
   "cell_type": "code",
   "execution_count": 123,
   "id": "99a23cda-7a26-4511-a61d-388f05ff4c71",
   "metadata": {},
   "outputs": [],
   "source": [
    "for url in urls:\n",
    "    resp=requests.get(url,headers=headers)\n",
    "    soup=BeautifulSoup(resp.text,\"html.parser\")\n",
    "    a=soup.find_all(\"div\",class_=\"infoTopContainer\")\n",
    "    for i in a:\n",
    "        if re.findall(r\"\\bKids Area\",i.text)==['Kids Area']:\n",
    "            Kids_Area.append(\"Yes\")\n",
    "        else:\n",
    "            Kids_Area.append(\"No\")"
   ]
  },
  {
   "cell_type": "code",
   "execution_count": 124,
   "id": "6b98a057-86ec-4d68-9216-3c7b71551040",
   "metadata": {},
   "outputs": [],
   "source": [
    "for url in urls:\n",
    "    resp=requests.get(url,headers=headers)\n",
    "    soup=BeautifulSoup(resp.text,\"html.parser\")\n",
    "    a=soup.find_all(\"div\",class_=\"infoTopContainer\")\n",
    "    for i in a:\n",
    "        if re.search(r\"\\b24x7 Security\",i.text)==['24x7 Security']:\n",
    "            Security.append(\"Yes\")\n",
    "        else:\n",
    "            Security.append(\"No\")"
   ]
  },
  {
   "cell_type": "markdown",
   "id": "9911f151-797b-49dc-9d76-86c5be591ae6",
   "metadata": {},
   "source": [
    "## 🧮 Step 5: Validating Data Lengths\n"
   ]
  },
  {
   "cell_type": "code",
   "execution_count": 183,
   "id": "fae59a7e-fd9c-418b-8cb9-0a2b62e76cfa",
   "metadata": {},
   "outputs": [
    {
     "name": "stdout",
     "output_type": "stream",
     "text": [
      "3000\n",
      "3000\n",
      "3000\n",
      "3000\n",
      "3000\n",
      "3000\n",
      "3000\n",
      "3000\n",
      "3000\n",
      "3000\n",
      "3000\n",
      "3000\n",
      "3000\n",
      "3000\n",
      "3000\n",
      "3000\n"
     ]
    }
   ],
   "source": [
    "for lst in [no_of_rooms, unit_type, property_category, locality, society_name, price, area_sqft,\n",
    "            furnishing_status, pool, gym, Parking, Lift, Close_to_Hospital, power_backup, Kids_Area, Security]:\n",
    "    print(len(lst))\n"
   ]
  },
  {
   "cell_type": "markdown",
   "id": "1e65d04c-2b6b-4fa9-95a0-938fa165d956",
   "metadata": {},
   "source": [
    "## 💾 Step 6: Creating DataFrame and Saving to CSV\n"
   ]
  },
  {
   "cell_type": "code",
   "execution_count": 16,
   "id": "2d7ebcdb-101b-46f6-8f32-17a68ae7fbf6",
   "metadata": {},
   "outputs": [
    {
     "name": "stdout",
     "output_type": "stream",
     "text": [
      "DataFrame created successfully\n"
     ]
    }
   ],
   "source": [
    "import pandas as pd\n",
    "data = {\n",
    "    'No_of_Rooms': no_of_rooms,\n",
    "    'Unit_Type': unit_type,\n",
    "    'Property_Category': property_category,\n",
    "    'Locality': locality,\n",
    "    'Society_Name': society_name,\n",
    "    'Price_INR': price,\n",
    "    'Area_sqft': area_sqft,\n",
    "    'Furnishing_Status': furnishing_status,\n",
    "    'Has_Pool': pool,\n",
    "    'Has_Gym': gym,\n",
    "    'Has_Parking': Parking,\n",
    "    'Has_Lift': Lift,\n",
    "    'Close_to_Hospital': Close_to_Hospital,\n",
    "    'Power_Backup': power_backup,\n",
    "    'Kids_Play_Area': Kids_Area,\n",
    "    'Security_24x7': Security\n",
    "}\n",
    "\n",
    "df = pd.DataFrame(data)\n",
    "df.to_csv(\"webscrap1.csv\", index=False)\n",
    "print(\"DataFrame created successfully\")\n"
   ]
  },
  {
   "cell_type": "markdown",
   "id": "471316b4-72a7-40f0-b69c-c2ff3e2053b7",
   "metadata": {},
   "source": [
    "# ✅ Data Scraping Completed Successfully!\n",
    "**File Saved As:** `webscrap1.csv`\n",
    "\n",
    "This notebook successfully scraped rental property data for **Hyderabad, Telangana** and saved it as a structured CSV file for analysis.\n"
   ]
  },
  {
   "cell_type": "code",
   "execution_count": null,
   "id": "0fb53b05-e6d1-4a3d-883d-e488afa7b805",
   "metadata": {},
   "outputs": [],
   "source": []
  }
 ],
 "metadata": {
  "kernelspec": {
   "display_name": "Python [conda env:base] *",
   "language": "python",
   "name": "conda-base-py"
  },
  "language_info": {
   "codemirror_mode": {
    "name": "ipython",
    "version": 3
   },
   "file_extension": ".py",
   "mimetype": "text/x-python",
   "name": "python",
   "nbconvert_exporter": "python",
   "pygments_lexer": "ipython3",
   "version": "3.12.7"
  }
 },
 "nbformat": 4,
 "nbformat_minor": 5
}
