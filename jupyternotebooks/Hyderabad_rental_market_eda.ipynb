{
 "cells": [
  {
   "cell_type": "markdown",
   "id": "92ff3dea-b9fc-48ce-be02-245fc52a6b90",
   "metadata": {},
   "source": [
    "# 🏘️ Hyderabad Rental Market Analysis  \n",
    "## Data Cleaning, Analysis, and Visualization\n"
   ]
  },
  {
   "cell_type": "markdown",
   "id": "1d494519-0ee1-4647-873c-c1daf88a893a",
   "metadata": {},
   "source": [
    "### importing required libraries"
   ]
  },
  {
   "cell_type": "code",
   "execution_count": 1,
   "id": "7aac12ec-bf29-49a3-8a71-3f1533592d7e",
   "metadata": {},
   "outputs": [],
   "source": [
    "import numpy as np\n",
    "import pandas as pd\n",
    "import matplotlib.pyplot as plt\n",
    "import seaborn as sns\n"
   ]
  },
  {
   "cell_type": "markdown",
   "id": "a022d343-f34a-4d38-9ee6-9a9bd2063516",
   "metadata": {},
   "source": [
    "### 1. Importing Data"
   ]
  },
  {
   "cell_type": "code",
   "execution_count": 2,
   "id": "39e6614b-e340-4884-9b4c-bf8ee9291e74",
   "metadata": {},
   "outputs": [],
   "source": [
    "df=pd.read_csv(r\"C:\\Users\\reddy\\innomaticspython\\webscrap1.csv\")"
   ]
  },
  {
   "cell_type": "code",
   "execution_count": 3,
   "id": "88372b8f-7511-4a54-99ca-1e6b1769fe7d",
   "metadata": {},
   "outputs": [
    {
     "data": {
      "text/html": [
       "<div>\n",
       "<style scoped>\n",
       "    .dataframe tbody tr th:only-of-type {\n",
       "        vertical-align: middle;\n",
       "    }\n",
       "\n",
       "    .dataframe tbody tr th {\n",
       "        vertical-align: top;\n",
       "    }\n",
       "\n",
       "    .dataframe thead th {\n",
       "        text-align: right;\n",
       "    }\n",
       "</style>\n",
       "<table border=\"1\" class=\"dataframe\">\n",
       "  <thead>\n",
       "    <tr style=\"text-align: right;\">\n",
       "      <th></th>\n",
       "      <th>No_of_Rooms</th>\n",
       "      <th>Unit_Type</th>\n",
       "      <th>Property_Category</th>\n",
       "      <th>Locality</th>\n",
       "      <th>Society_Name</th>\n",
       "      <th>Price_INR</th>\n",
       "      <th>Area_sqft</th>\n",
       "      <th>Furnishing_Status</th>\n",
       "      <th>Has_Pool</th>\n",
       "      <th>Has_Gym</th>\n",
       "      <th>Has_Parking</th>\n",
       "      <th>Has_Lift</th>\n",
       "      <th>Close_to_Hospital</th>\n",
       "      <th>Power_Backup</th>\n",
       "      <th>Kids_Play_Area</th>\n",
       "      <th>Security_24x7</th>\n",
       "    </tr>\n",
       "  </thead>\n",
       "  <tbody>\n",
       "    <tr>\n",
       "      <th>0</th>\n",
       "      <td>4.0</td>\n",
       "      <td>BHK</td>\n",
       "      <td>Independent</td>\n",
       "      <td>Mokila</td>\n",
       "      <td></td>\n",
       "      <td>1,50,000</td>\n",
       "      <td>5000</td>\n",
       "      <td>areaSemi furnished</td>\n",
       "      <td>No</td>\n",
       "      <td>No</td>\n",
       "      <td>Yes</td>\n",
       "      <td>No</td>\n",
       "      <td>No</td>\n",
       "      <td>Yes</td>\n",
       "      <td>Yes</td>\n",
       "      <td>No</td>\n",
       "    </tr>\n",
       "    <tr>\n",
       "      <th>1</th>\n",
       "      <td>2.0</td>\n",
       "      <td>BHK</td>\n",
       "      <td>Independent</td>\n",
       "      <td>Puppalaguda</td>\n",
       "      <td></td>\n",
       "      <td>25,000</td>\n",
       "      <td>1200</td>\n",
       "      <td>areaSemi furnished</td>\n",
       "      <td>No</td>\n",
       "      <td>No</td>\n",
       "      <td>No</td>\n",
       "      <td>No</td>\n",
       "      <td>No</td>\n",
       "      <td>No</td>\n",
       "      <td>No</td>\n",
       "      <td>No</td>\n",
       "    </tr>\n",
       "    <tr>\n",
       "      <th>2</th>\n",
       "      <td>3.0</td>\n",
       "      <td>BHK</td>\n",
       "      <td>Independent</td>\n",
       "      <td>Madhapur</td>\n",
       "      <td></td>\n",
       "      <td>45,000</td>\n",
       "      <td>2400</td>\n",
       "      <td>areaSemi furnished</td>\n",
       "      <td>No</td>\n",
       "      <td>No</td>\n",
       "      <td>Yes</td>\n",
       "      <td>Yes</td>\n",
       "      <td>No</td>\n",
       "      <td>Yes</td>\n",
       "      <td>No</td>\n",
       "      <td>No</td>\n",
       "    </tr>\n",
       "    <tr>\n",
       "      <th>3</th>\n",
       "      <td>3.0</td>\n",
       "      <td>BHK</td>\n",
       "      <td>Independent</td>\n",
       "      <td>Banjara Hills</td>\n",
       "      <td></td>\n",
       "      <td>75,000</td>\n",
       "      <td>3200</td>\n",
       "      <td>areaFully furnished</td>\n",
       "      <td>No</td>\n",
       "      <td>No</td>\n",
       "      <td>Yes</td>\n",
       "      <td>No</td>\n",
       "      <td>No</td>\n",
       "      <td>Yes</td>\n",
       "      <td>No</td>\n",
       "      <td>No</td>\n",
       "    </tr>\n",
       "    <tr>\n",
       "      <th>4</th>\n",
       "      <td>4.0</td>\n",
       "      <td>BHK</td>\n",
       "      <td>Independent</td>\n",
       "      <td>Rai Durg</td>\n",
       "      <td></td>\n",
       "      <td>90,000</td>\n",
       "      <td>3850</td>\n",
       "      <td>areaFully furnished</td>\n",
       "      <td>No</td>\n",
       "      <td>No</td>\n",
       "      <td>Yes</td>\n",
       "      <td>No</td>\n",
       "      <td>No</td>\n",
       "      <td>Yes</td>\n",
       "      <td>No</td>\n",
       "      <td>No</td>\n",
       "    </tr>\n",
       "  </tbody>\n",
       "</table>\n",
       "</div>"
      ],
      "text/plain": [
       "   No_of_Rooms Unit_Type Property_Category        Locality Society_Name  \\\n",
       "0          4.0       BHK       Independent          Mokila                \n",
       "1          2.0       BHK       Independent     Puppalaguda                \n",
       "2          3.0       BHK       Independent        Madhapur                \n",
       "3          3.0       BHK       Independent   Banjara Hills                \n",
       "4          4.0       BHK       Independent        Rai Durg                \n",
       "\n",
       "  Price_INR  Area_sqft     Furnishing_Status Has_Pool Has_Gym Has_Parking  \\\n",
       "0  1,50,000       5000    areaSemi furnished       No      No         Yes   \n",
       "1    25,000       1200    areaSemi furnished       No      No          No   \n",
       "2    45,000       2400    areaSemi furnished       No      No         Yes   \n",
       "3    75,000       3200   areaFully furnished       No      No         Yes   \n",
       "4    90,000       3850   areaFully furnished       No      No         Yes   \n",
       "\n",
       "  Has_Lift Close_to_Hospital Power_Backup Kids_Play_Area Security_24x7  \n",
       "0       No                No          Yes            Yes            No  \n",
       "1       No                No           No             No            No  \n",
       "2      Yes                No          Yes             No            No  \n",
       "3       No                No          Yes             No            No  \n",
       "4       No                No          Yes             No            No  "
      ]
     },
     "execution_count": 3,
     "metadata": {},
     "output_type": "execute_result"
    }
   ],
   "source": [
    "df.head()"
   ]
  },
  {
   "cell_type": "code",
   "execution_count": 4,
   "id": "d38efaa8-c3b0-4bb1-aca0-c6e8e7746d3b",
   "metadata": {},
   "outputs": [
    {
     "data": {
      "text/plain": [
       "(3000, 16)"
      ]
     },
     "execution_count": 4,
     "metadata": {},
     "output_type": "execute_result"
    }
   ],
   "source": [
    "df.shape"
   ]
  },
  {
   "cell_type": "markdown",
   "id": "37f5ed0e-f771-46e7-b5f2-237a611a9565",
   "metadata": {},
   "source": [
    "- Loaded the scraped Hyderabad rental dataset (`webscrap1.csv`) with **3000 entries** and **16 columns**.\n",
    "- Verified the **first few rows** and **dataset shape**."
   ]
  },
  {
   "cell_type": "markdown",
   "id": "a9996428-bb82-4804-9771-481fd390fde5",
   "metadata": {},
   "source": [
    "### 2. Understanding Columns"
   ]
  },
  {
   "cell_type": "code",
   "execution_count": 5,
   "id": "b8476b61-9f97-4c7c-b6f5-431f41e5f641",
   "metadata": {},
   "outputs": [
    {
     "data": {
      "text/plain": [
       "Index(['No_of_Rooms', 'Unit_Type', 'Property_Category', 'Locality',\n",
       "       'Society_Name', 'Price_INR', 'Area_sqft', 'Furnishing_Status',\n",
       "       'Has_Pool', 'Has_Gym', 'Has_Parking', 'Has_Lift', 'Close_to_Hospital',\n",
       "       'Power_Backup', 'Kids_Play_Area', 'Security_24x7'],\n",
       "      dtype='object')"
      ]
     },
     "execution_count": 5,
     "metadata": {},
     "output_type": "execute_result"
    }
   ],
   "source": [
    "df.columns"
   ]
  },
  {
   "cell_type": "code",
   "execution_count": 6,
   "id": "afe350f3-3c75-495a-819f-4efafe5ee2b7",
   "metadata": {},
   "outputs": [
    {
     "name": "stdout",
     "output_type": "stream",
     "text": [
      "<class 'pandas.core.frame.DataFrame'>\n",
      "RangeIndex: 3000 entries, 0 to 2999\n",
      "Data columns (total 16 columns):\n",
      " #   Column             Non-Null Count  Dtype  \n",
      "---  ------             --------------  -----  \n",
      " 0   No_of_Rooms        3000 non-null   float64\n",
      " 1   Unit_Type          3000 non-null   object \n",
      " 2   Property_Category  3000 non-null   object \n",
      " 3   Locality           3000 non-null   object \n",
      " 4   Society_Name       2994 non-null   object \n",
      " 5   Price_INR          3000 non-null   object \n",
      " 6   Area_sqft          3000 non-null   int64  \n",
      " 7   Furnishing_Status  3000 non-null   object \n",
      " 8   Has_Pool           3000 non-null   object \n",
      " 9   Has_Gym            3000 non-null   object \n",
      " 10  Has_Parking        3000 non-null   object \n",
      " 11  Has_Lift           3000 non-null   object \n",
      " 12  Close_to_Hospital  3000 non-null   object \n",
      " 13  Power_Backup       3000 non-null   object \n",
      " 14  Kids_Play_Area     3000 non-null   object \n",
      " 15  Security_24x7      3000 non-null   object \n",
      "dtypes: float64(1), int64(1), object(14)\n",
      "memory usage: 375.1+ KB\n"
     ]
    }
   ],
   "source": [
    "df.info()"
   ]
  },
  {
   "cell_type": "markdown",
   "id": "d7fd242b-2a88-484d-a88a-a1618e4742d3",
   "metadata": {},
   "source": [
    "- Mix of column types:\n",
    "  - **Numerical:** `No_of_Rooms`, `Area_sqft`\n",
    "  - **Categorical:** `Unit_Type`, `Furnishing_Status` , `Has_Pool`, `Has_Gym`, etc.\n",
    "- `Price_INR` is of type **object** → needs conversion to numeric."
   ]
  },
  {
   "cell_type": "markdown",
   "id": "c975d068-f632-4ccb-91e2-d30831cee883",
   "metadata": {},
   "source": [
    "#### Value_counts for categorial"
   ]
  },
  {
   "cell_type": "code",
   "execution_count": 7,
   "id": "7c5eea41-95f5-4194-88fa-f9f8ea6e3d8f",
   "metadata": {},
   "outputs": [],
   "source": [
    "categorical_cols = [\n",
    "    \"No_of_Rooms\",\n",
    "    \"Unit_Type\",\n",
    "    \"Property_Category\",\n",
    "    \"Locality\",\n",
    "    \"Society_Name\",\n",
    "    \"Furnishing_Status\",\n",
    "    \"Has_Pool\",\n",
    "    \"Has_Gym\",\n",
    "    \"Has_Parking\",\n",
    "    \"Has_Lift\",\n",
    "    \"Close_to_Hospital\",\n",
    "    \"Power_Backup\",\n",
    "    \"Kids_Play_Area\",\n",
    "    \"Security_24x7\"\n",
    "]\n"
   ]
  },
  {
   "cell_type": "code",
   "execution_count": 8,
   "id": "bee4543f-bd94-49eb-a2db-48ea613519ca",
   "metadata": {},
   "outputs": [
    {
     "name": "stdout",
     "output_type": "stream",
     "text": [
      "Value counts for No_of_Rooms:\n",
      "No_of_Rooms\n",
      "3.0    1208\n",
      "2.0     734\n",
      "1.0     701\n",
      "4.0     189\n",
      "2.5     108\n",
      "3.5      29\n",
      "5.0      23\n",
      "6.0       4\n",
      "4.5       3\n",
      "1.5       1\n",
      "Name: count, dtype: int64\n",
      "----------------------------------------\n",
      "Value counts for Unit_Type:\n",
      "Unit_Type\n",
      "BHK    2933\n",
      "RK       67\n",
      "Name: count, dtype: int64\n",
      "----------------------------------------\n",
      "Value counts for Property_Category:\n",
      "Property_Category\n",
      "Flat           2717\n",
      "Independent     202\n",
      "Villa            47\n",
      "Duplex           17\n",
      "Penthouse        11\n",
      "Studio            6\n",
      "Name: count, dtype: int64\n",
      "----------------------------------------\n",
      "Value counts for Locality:\n",
      "Locality\n",
      "Kondapur                   745\n",
      "Madhapur                   215\n",
      "Kokapet                    179\n",
      "Financial District         147\n",
      "Banjara Hills              143\n",
      "                          ... \n",
      "Jeedimetla                   1\n",
      "Nagole                       1\n",
      "HMT Colony                   1\n",
      "Dr A S Rao Nagar Colony      1\n",
      "Golconda Fort                1\n",
      "Name: count, Length: 118, dtype: int64\n",
      "----------------------------------------\n",
      "Value counts for Society_Name:\n",
      "Society_Name\n",
      "                                          1705\n",
      "Rajapushpa Provincia                        85\n",
      "Prestige High Fields                        72\n",
      "Prestige Beverly Hills                      37\n",
      "Candeur 40                                  35\n",
      "                                          ... \n",
      "Babukhan Hillview                            1\n",
      "Sri Venkateswara The Residences At 10        1\n",
      "Niharika Interlake                           1\n",
      "Vajra Jasmine County                         1\n",
      "Vamsiram Jyothi Anri                         1\n",
      "Name: count, Length: 263, dtype: int64\n",
      "----------------------------------------\n",
      "Value counts for Furnishing_Status:\n",
      "Furnishing_Status\n",
      "areaSemi furnished     2071\n",
      "areaFully furnished     676\n",
      "areaUn-furnished        253\n",
      "Name: count, dtype: int64\n",
      "----------------------------------------\n",
      "Value counts for Has_Pool:\n",
      "Has_Pool\n",
      "No     1971\n",
      "Yes    1029\n",
      "Name: count, dtype: int64\n",
      "----------------------------------------\n",
      "Value counts for Has_Gym:\n",
      "Has_Gym\n",
      "No     1947\n",
      "Yes    1053\n",
      "Name: count, dtype: int64\n",
      "----------------------------------------\n",
      "Value counts for Has_Parking:\n",
      "Has_Parking\n",
      "Yes    1774\n",
      "No     1226\n",
      "Name: count, dtype: int64\n",
      "----------------------------------------\n",
      "Value counts for Has_Lift:\n",
      "Has_Lift\n",
      "Yes    1512\n",
      "No     1488\n",
      "Name: count, dtype: int64\n",
      "----------------------------------------\n",
      "Value counts for Close_to_Hospital:\n",
      "Close_to_Hospital\n",
      "No     2750\n",
      "Yes     250\n",
      "Name: count, dtype: int64\n",
      "----------------------------------------\n",
      "Value counts for Power_Backup:\n",
      "Power_Backup\n",
      "No     2505\n",
      "Yes     495\n",
      "Name: count, dtype: int64\n",
      "----------------------------------------\n",
      "Value counts for Kids_Play_Area:\n",
      "Kids_Play_Area\n",
      "No     2981\n",
      "Yes      19\n",
      "Name: count, dtype: int64\n",
      "----------------------------------------\n",
      "Value counts for Security_24x7:\n",
      "Security_24x7\n",
      "No    3000\n",
      "Name: count, dtype: int64\n",
      "----------------------------------------\n"
     ]
    }
   ],
   "source": [
    "for col in categorical_cols:\n",
    "    print(f\"Value counts for {col}:\")\n",
    "    print(df[col].value_counts())\n",
    "    print(\"-\"*40)\n"
   ]
  },
  {
   "cell_type": "markdown",
   "id": "b9111534-0cde-42f2-816c-4bae4f904743",
   "metadata": {},
   "source": [
    "#### Initial Observations from Value Counts\n",
    "\n",
    "- **No_of_Rooms:** Mostly 3BHK (1208), 2BHK (734), 1BHK (701); fractional rooms like 2.5BHK exist but are few.  \n",
    "- **Unit_Type:** Predominantly BHK (2933), very few RK (67).  \n",
    "- **Property_Category:** Flats dominate (2717), followed by Independent houses (202); Villas, Duplex, Penthouse, and Studios are rare.  \n",
    "- **Locality:** Kondapur, Madhapur, and Kokapet are the most common localities; 118 unique localities in total.  \n",
    "- **Society_Name:** Many missing/empty entries (1705), some popular societies like Rajapushpa Provincia, Prestige High Fields appear.  \n",
    "- **Furnishing_Status:** Majority are semi-furnished (2071), fully furnished (676), and unfurnished (253).  \n",
    "- **Amenities:**  \n",
    "  - Pool: 1029 Yes, 1971 No  \n",
    "  - Gym: 1053 Yes, 1947 No  \n",
    "  - Parking: 1774 Yes, 1226 No  \n",
    "  - Lift: 1512 Yes, 1488 No  \n",
    "- **Proximity & Facilities:**  \n",
    "  - Close_to_Hospital: 250 Yes, 2750 No  \n",
    "  - Power_Backup: 495 Yes, 2505 No  \n",
    "  - Kids_Play_Area: Very few Yes (19), mostly No (2981)  \n",
    "- **Security_24x7:** Uniformly No for all entries → not informative.  \n"
   ]
  },
  {
   "cell_type": "markdown",
   "id": "d5d0fb3c-7f34-46c7-878e-eb27ffe3d666",
   "metadata": {},
   "source": [
    "### 3.Handling missing values and removing irrelevant columns"
   ]
  },
  {
   "cell_type": "code",
   "execution_count": 9,
   "id": "001c16ef-1b64-457d-b486-2fc5b7c931ad",
   "metadata": {},
   "outputs": [
    {
     "data": {
      "text/plain": [
       "No_of_Rooms          0\n",
       "Unit_Type            0\n",
       "Property_Category    0\n",
       "Locality             0\n",
       "Society_Name         6\n",
       "Price_INR            0\n",
       "Area_sqft            0\n",
       "Furnishing_Status    0\n",
       "Has_Pool             0\n",
       "Has_Gym              0\n",
       "Has_Parking          0\n",
       "Has_Lift             0\n",
       "Close_to_Hospital    0\n",
       "Power_Backup         0\n",
       "Kids_Play_Area       0\n",
       "Security_24x7        0\n",
       "dtype: int64"
      ]
     },
     "execution_count": 9,
     "metadata": {},
     "output_type": "execute_result"
    }
   ],
   "source": [
    "df.isnull().sum()"
   ]
  },
  {
   "cell_type": "markdown",
   "id": "3e4ebb9b-5010-4148-85b7-5ccbbd995a21",
   "metadata": {},
   "source": [
    "- `Society_Name`: 6 missing values + many empty strings → **dropped**.\n",
    "- `Security_24x7`: uniform (`No` for all) → **dropped**.\n",
    "- All other columns have **complete values**.\n"
   ]
  },
  {
   "cell_type": "code",
   "execution_count": 10,
   "id": "e2e82921-1e73-466b-b893-2cee6c2541e2",
   "metadata": {},
   "outputs": [],
   "source": [
    "df=df.drop('Society_Name',axis=1)"
   ]
  },
  {
   "cell_type": "code",
   "execution_count": 11,
   "id": "c73eee11-77c9-40fc-bae7-80cbab0a79f2",
   "metadata": {},
   "outputs": [],
   "source": [
    "df=df.drop('Security_24x7',axis=1)"
   ]
  },
  {
   "cell_type": "markdown",
   "id": "36ccaa6f-0c51-438b-9d92-a4ec66b4ea2b",
   "metadata": {},
   "source": [
    "### 4. Handling Duplicates"
   ]
  },
  {
   "cell_type": "code",
   "execution_count": 12,
   "id": "c7a0c64c-79e5-4bd4-9560-d019434b35ea",
   "metadata": {},
   "outputs": [
    {
     "data": {
      "text/plain": [
       "231"
      ]
     },
     "execution_count": 12,
     "metadata": {},
     "output_type": "execute_result"
    }
   ],
   "source": [
    "df.duplicated().sum()"
   ]
  },
  {
   "cell_type": "code",
   "execution_count": 13,
   "id": "97b0757d-abc7-4d58-88e7-5a5f5e1fe940",
   "metadata": {},
   "outputs": [],
   "source": [
    "df.drop_duplicates(inplace=True)\n"
   ]
  },
  {
   "cell_type": "markdown",
   "id": "16ea5b0e-0e8f-41bb-b048-412394984ed9",
   "metadata": {},
   "source": [
    "- Found **231 duplicate rows** → **removed** duplicates."
   ]
  },
  {
   "cell_type": "markdown",
   "id": "0447a471-fa5b-47fa-b6d2-cc28d6a5df9d",
   "metadata": {},
   "source": [
    "### 5. Correcting Data Types"
   ]
  },
  {
   "cell_type": "code",
   "execution_count": 14,
   "id": "5e784d1b-1f4c-4f68-a296-aa0159f0fa5d",
   "metadata": {},
   "outputs": [
    {
     "data": {
      "text/plain": [
       "No_of_Rooms          float64\n",
       "Unit_Type             object\n",
       "Property_Category     object\n",
       "Locality              object\n",
       "Price_INR             object\n",
       "Area_sqft              int64\n",
       "Furnishing_Status     object\n",
       "Has_Pool              object\n",
       "Has_Gym               object\n",
       "Has_Parking           object\n",
       "Has_Lift              object\n",
       "Close_to_Hospital     object\n",
       "Power_Backup          object\n",
       "Kids_Play_Area        object\n",
       "dtype: object"
      ]
     },
     "execution_count": 14,
     "metadata": {},
     "output_type": "execute_result"
    }
   ],
   "source": [
    "df.dtypes"
   ]
  },
  {
   "cell_type": "code",
   "execution_count": 15,
   "id": "214739a4-dd17-4e21-8b8d-6ba2ac84e1b1",
   "metadata": {},
   "outputs": [],
   "source": [
    "df[\"No_of_Rooms\"]=df[\"No_of_Rooms\"].astype(int)\n",
    "    "
   ]
  },
  {
   "cell_type": "code",
   "execution_count": 16,
   "id": "14651edc-a140-4cfa-a662-14cce0ee8e3c",
   "metadata": {},
   "outputs": [
    {
     "data": {
      "text/plain": [
       "dtype('int32')"
      ]
     },
     "execution_count": 16,
     "metadata": {},
     "output_type": "execute_result"
    }
   ],
   "source": [
    "df[\"No_of_Rooms\"].dtype"
   ]
  },
  {
   "cell_type": "markdown",
   "id": "255f24e7-0de9-4d20-8599-d973af79f2b1",
   "metadata": {},
   "source": [
    "- `No_of_Rooms`: converted from **float to int** (fractional rooms like 2.5 → 2)"
   ]
  },
  {
   "cell_type": "code",
   "execution_count": 17,
   "id": "5ef0a1bb-b0f0-4a69-abef-bf1b9e59f86a",
   "metadata": {},
   "outputs": [],
   "source": [
    "df[\"Price_INR\"]=df[\"Price_INR\"].str.replace(\",\",\"\").astype(int)"
   ]
  },
  {
   "cell_type": "markdown",
   "id": "9bc316d5-ba48-4446-95b6-6bfdb3b0372b",
   "metadata": {},
   "source": [
    "- `Price_INR`: converted from **string with commas to integer**."
   ]
  },
  {
   "cell_type": "code",
   "execution_count": 18,
   "id": "4e9cf3c2-4121-4a65-8eae-f216f1daadc4",
   "metadata": {},
   "outputs": [],
   "source": [
    "df = df.apply(lambda x: x.str.strip() if x.dtype == \"object\" else x) "
   ]
  },
  {
   "cell_type": "markdown",
   "id": "64533683-692d-454e-b3c5-51da6f0bd8ae",
   "metadata": {},
   "source": [
    "- Applied `.strip()` to all string (object) columns to remove extra spaces."
   ]
  },
  {
   "cell_type": "code",
   "execution_count": 19,
   "id": "72d129a5-10f7-4aa9-9b79-b60384e12ede",
   "metadata": {},
   "outputs": [],
   "source": [
    "counts = df['Locality'].value_counts()\n",
    "df = df[df['Locality'].isin(counts[counts > 4].index)]"
   ]
  },
  {
   "cell_type": "markdown",
   "id": "292e42c9-dd2b-427c-9f5f-546da7e3f4b3",
   "metadata": {},
   "source": [
    "- Kept only localities that have **more than 4 listings**.\n",
    "- This helps reduce noise from rare localities and ensures meaningful analysis."
   ]
  },
  {
   "cell_type": "code",
   "execution_count": 20,
   "id": "bcff308b-cdca-40f8-bdef-c00a27c51b39",
   "metadata": {},
   "outputs": [],
   "source": [
    "df=df[df[\"Property_Category\"]!=\"Studio\"]"
   ]
  },
  {
   "cell_type": "markdown",
   "id": "fde88e39-1de1-4ee5-a0ef-df2cd9ea4de1",
   "metadata": {},
   "source": [
    "- Studios are very few and may skew the analysis, so removing them focuses on Flats, Villas, and other common property types"
   ]
  },
  {
   "cell_type": "markdown",
   "id": "70a2a40f-2b52-422c-8f99-bf06c75751be",
   "metadata": {},
   "source": [
    "### ✅ Cleaning Summary\n",
    "- Dropped **irrelevant/uninformative columns**: `Society_Name`, `Security_24x7`.\n",
    "- Removed **duplicates**.\n",
    "- Converted necessary columns to **proper data types**.\n",
    "- Dataset is now **ready for analysis and visualization**."
   ]
  },
  {
   "cell_type": "markdown",
   "id": "3e0564fa-2ae3-4e20-9568-278edd58d36d",
   "metadata": {},
   "source": [
    "### 6. 📊 DATA ANALYSIS AND VISUALIZATION "
   ]
  },
  {
   "cell_type": "markdown",
   "id": "0f5ad17b-6235-4d99-bbc5-a42b1d712659",
   "metadata": {},
   "source": [
    "#### Summary Statistics"
   ]
  },
  {
   "cell_type": "code",
   "execution_count": 21,
   "id": "298604ce-c515-4241-9958-ed3eedb8a0a3",
   "metadata": {},
   "outputs": [
    {
     "data": {
      "text/html": [
       "<div>\n",
       "<style scoped>\n",
       "    .dataframe tbody tr th:only-of-type {\n",
       "        vertical-align: middle;\n",
       "    }\n",
       "\n",
       "    .dataframe tbody tr th {\n",
       "        vertical-align: top;\n",
       "    }\n",
       "\n",
       "    .dataframe thead th {\n",
       "        text-align: right;\n",
       "    }\n",
       "</style>\n",
       "<table border=\"1\" class=\"dataframe\">\n",
       "  <thead>\n",
       "    <tr style=\"text-align: right;\">\n",
       "      <th></th>\n",
       "      <th>No_of_Rooms</th>\n",
       "      <th>Price_INR</th>\n",
       "      <th>Area_sqft</th>\n",
       "    </tr>\n",
       "  </thead>\n",
       "  <tbody>\n",
       "    <tr>\n",
       "      <th>count</th>\n",
       "      <td>2661.000000</td>\n",
       "      <td>2661.000000</td>\n",
       "      <td>2661.000000</td>\n",
       "    </tr>\n",
       "    <tr>\n",
       "      <th>mean</th>\n",
       "      <td>2.308531</td>\n",
       "      <td>52835.107103</td>\n",
       "      <td>1709.970312</td>\n",
       "    </tr>\n",
       "    <tr>\n",
       "      <th>std</th>\n",
       "      <td>0.939464</td>\n",
       "      <td>60748.387999</td>\n",
       "      <td>1160.248696</td>\n",
       "    </tr>\n",
       "    <tr>\n",
       "      <th>min</th>\n",
       "      <td>1.000000</td>\n",
       "      <td>5000.000000</td>\n",
       "      <td>150.000000</td>\n",
       "    </tr>\n",
       "    <tr>\n",
       "      <th>25%</th>\n",
       "      <td>2.000000</td>\n",
       "      <td>24000.000000</td>\n",
       "      <td>1000.000000</td>\n",
       "    </tr>\n",
       "    <tr>\n",
       "      <th>50%</th>\n",
       "      <td>2.000000</td>\n",
       "      <td>40000.000000</td>\n",
       "      <td>1520.000000</td>\n",
       "    </tr>\n",
       "    <tr>\n",
       "      <th>75%</th>\n",
       "      <td>3.000000</td>\n",
       "      <td>65000.000000</td>\n",
       "      <td>2063.000000</td>\n",
       "    </tr>\n",
       "    <tr>\n",
       "      <th>max</th>\n",
       "      <td>6.000000</td>\n",
       "      <td>1000000.000000</td>\n",
       "      <td>10000.000000</td>\n",
       "    </tr>\n",
       "  </tbody>\n",
       "</table>\n",
       "</div>"
      ],
      "text/plain": [
       "       No_of_Rooms       Price_INR     Area_sqft\n",
       "count  2661.000000     2661.000000   2661.000000\n",
       "mean      2.308531    52835.107103   1709.970312\n",
       "std       0.939464    60748.387999   1160.248696\n",
       "min       1.000000     5000.000000    150.000000\n",
       "25%       2.000000    24000.000000   1000.000000\n",
       "50%       2.000000    40000.000000   1520.000000\n",
       "75%       3.000000    65000.000000   2063.000000\n",
       "max       6.000000  1000000.000000  10000.000000"
      ]
     },
     "execution_count": 21,
     "metadata": {},
     "output_type": "execute_result"
    }
   ],
   "source": [
    "df.describe()"
   ]
  },
  {
   "cell_type": "markdown",
   "id": "adf00730-0fd2-4bf4-b88c-59f083dacbe8",
   "metadata": {},
   "source": [
    "- Observation: The dataset has high variance in price and area due to luxury properties."
   ]
  },
  {
   "cell_type": "code",
   "execution_count": 22,
   "id": "f8cdfb42-a675-4b61-8456-9b032e34f7f8",
   "metadata": {},
   "outputs": [
    {
     "data": {
      "text/html": [
       "<div>\n",
       "<style scoped>\n",
       "    .dataframe tbody tr th:only-of-type {\n",
       "        vertical-align: middle;\n",
       "    }\n",
       "\n",
       "    .dataframe tbody tr th {\n",
       "        vertical-align: top;\n",
       "    }\n",
       "\n",
       "    .dataframe thead th {\n",
       "        text-align: right;\n",
       "    }\n",
       "</style>\n",
       "<table border=\"1\" class=\"dataframe\">\n",
       "  <thead>\n",
       "    <tr style=\"text-align: right;\">\n",
       "      <th></th>\n",
       "      <th>Unit_Type</th>\n",
       "      <th>Property_Category</th>\n",
       "      <th>Locality</th>\n",
       "      <th>Furnishing_Status</th>\n",
       "      <th>Has_Pool</th>\n",
       "      <th>Has_Gym</th>\n",
       "      <th>Has_Parking</th>\n",
       "      <th>Has_Lift</th>\n",
       "      <th>Close_to_Hospital</th>\n",
       "      <th>Power_Backup</th>\n",
       "      <th>Kids_Play_Area</th>\n",
       "    </tr>\n",
       "  </thead>\n",
       "  <tbody>\n",
       "    <tr>\n",
       "      <th>count</th>\n",
       "      <td>2661</td>\n",
       "      <td>2661</td>\n",
       "      <td>2661</td>\n",
       "      <td>2661</td>\n",
       "      <td>2661</td>\n",
       "      <td>2661</td>\n",
       "      <td>2661</td>\n",
       "      <td>2661</td>\n",
       "      <td>2661</td>\n",
       "      <td>2661</td>\n",
       "      <td>2661</td>\n",
       "    </tr>\n",
       "    <tr>\n",
       "      <th>unique</th>\n",
       "      <td>2</td>\n",
       "      <td>5</td>\n",
       "      <td>56</td>\n",
       "      <td>3</td>\n",
       "      <td>2</td>\n",
       "      <td>2</td>\n",
       "      <td>2</td>\n",
       "      <td>2</td>\n",
       "      <td>2</td>\n",
       "      <td>2</td>\n",
       "      <td>2</td>\n",
       "    </tr>\n",
       "    <tr>\n",
       "      <th>top</th>\n",
       "      <td>BHK</td>\n",
       "      <td>Flat</td>\n",
       "      <td>Kondapur</td>\n",
       "      <td>areaSemi furnished</td>\n",
       "      <td>No</td>\n",
       "      <td>No</td>\n",
       "      <td>Yes</td>\n",
       "      <td>Yes</td>\n",
       "      <td>No</td>\n",
       "      <td>No</td>\n",
       "      <td>No</td>\n",
       "    </tr>\n",
       "    <tr>\n",
       "      <th>freq</th>\n",
       "      <td>2602</td>\n",
       "      <td>2426</td>\n",
       "      <td>698</td>\n",
       "      <td>1819</td>\n",
       "      <td>1789</td>\n",
       "      <td>1766</td>\n",
       "      <td>1563</td>\n",
       "      <td>1332</td>\n",
       "      <td>2428</td>\n",
       "      <td>2215</td>\n",
       "      <td>2646</td>\n",
       "    </tr>\n",
       "  </tbody>\n",
       "</table>\n",
       "</div>"
      ],
      "text/plain": [
       "       Unit_Type Property_Category  Locality   Furnishing_Status Has_Pool  \\\n",
       "count       2661              2661      2661                2661     2661   \n",
       "unique         2                 5        56                   3        2   \n",
       "top          BHK              Flat  Kondapur  areaSemi furnished       No   \n",
       "freq        2602              2426       698                1819     1789   \n",
       "\n",
       "       Has_Gym Has_Parking Has_Lift Close_to_Hospital Power_Backup  \\\n",
       "count     2661        2661     2661              2661         2661   \n",
       "unique       2           2        2                 2            2   \n",
       "top         No         Yes      Yes                No           No   \n",
       "freq      1766        1563     1332              2428         2215   \n",
       "\n",
       "       Kids_Play_Area  \n",
       "count            2661  \n",
       "unique              2  \n",
       "top                No  \n",
       "freq             2646  "
      ]
     },
     "execution_count": 22,
     "metadata": {},
     "output_type": "execute_result"
    }
   ],
   "source": [
    "df.describe(include='object')"
   ]
  },
  {
   "cell_type": "markdown",
   "id": "a3af83cf-1317-45ef-a743-1295801383e6",
   "metadata": {},
   "source": [
    "##### Observation\n",
    "Most properties are **2–3 BHK flats**, **semi-furnished**, with **parking**,  \n",
    "but without amenities like **pool**, **gym**, or **kids play area**.  \n",
    "Rentals are concentrated in specific localities like **Kondapur**.\n"
   ]
  },
  {
   "cell_type": "markdown",
   "id": "6168feb6-feb9-4d06-9bc9-690091e70572",
   "metadata": {},
   "source": [
    "#### Rent analysis"
   ]
  },
  {
   "cell_type": "code",
   "execution_count": 23,
   "id": "cb20eeb9-b0ac-4943-a700-02cec04a539d",
   "metadata": {},
   "outputs": [
    {
     "data": {
      "text/plain": [
       "count       2661.000000\n",
       "mean       52835.107103\n",
       "std        60748.387999\n",
       "min         5000.000000\n",
       "25%        24000.000000\n",
       "50%        40000.000000\n",
       "75%        65000.000000\n",
       "max      1000000.000000\n",
       "Name: Price_INR, dtype: float64"
      ]
     },
     "execution_count": 23,
     "metadata": {},
     "output_type": "execute_result"
    }
   ],
   "source": [
    "df['Price_INR'].describe()"
   ]
  },
  {
   "cell_type": "code",
   "execution_count": 24,
   "id": "ce074d62-d229-40ca-994f-d2817a555e0d",
   "metadata": {},
   "outputs": [
    {
     "data": {
      "image/png": "[encoded data removed]",
      "text/plain": [
       "<Figure size 1000x600 with 1 Axes>"
      ]
     },
     "metadata": {},
     "output_type": "display_data"
    }
   ],
   "source": [
    "bins = np.arange(0, 1000000 + 25000, 25000)\n",
    "\n",
    "plt.figure(figsize=(10, 6))\n",
    "plt.style.use('seaborn-v0_8-whitegrid')\n",
    "\n",
    "n, bins, patches = plt.hist(df['Price_INR'], bins=bins, color='#7ec8e3', edgecolor='white', alpha=0.9)\n",
    "\n",
    "plt.axvline(df['Price_INR'].mean(), color='darkblue', linestyle='--', linewidth=2, label=f\"Mean: ₹{df['Price_INR'].mean():,.0f}\")\n",
    "plt.axvline(df['Price_INR'].median(), color='orange', linestyle='--', linewidth=2, label=f\"Median: ₹{df['Price_INR'].median():,.0f}\")\n",
    "\n",
    "plt.title('Distribution of Property Prices in Hyderabad', fontsize=16, fontweight='bold', color='#2a2a2a', pad=15)\n",
    "plt.xlabel('Price (INR)', fontsize=12)\n",
    "plt.ylabel('Number of Properties', fontsize=12)\n",
    "plt.xticks(bins[::2], rotation=45, fontsize=10)\n",
    "plt.yticks(fontsize=10)\n",
    "plt.legend(frameon=False, fontsize=10)\n",
    "plt.tight_layout()\n",
    "plt.show()\n"
   ]
  },
  {
   "cell_type": "markdown",
   "id": "51af3408-6e27-4626-b118-3fa7ae1a1fb7",
   "metadata": {},
   "source": [
    "- **Range:** ₹5,000 – ₹10,00,000, showing huge variation.  \n",
    "- **Distribution:** Right-skewed → few luxury properties with very high rents pull the mean up.  \n",
    "- **Central Tendency:** Mean ₹52,675 > Median ₹40,000, confirming skewness.  \n",
    "- **Spread:** Std ≈ ₹61,369 → high variability in rents.  \n",
    "- **Affordable Segment:** Most properties fall between ₹20,000–₹50,000, indicating majority are mid-range or affordable."
   ]
  },
  {
   "cell_type": "markdown",
   "id": "6cb91fb2-134f-451e-8e05-11bb95de01c0",
   "metadata": {},
   "source": [
    "##### expensive and cheap properties"
   ]
  },
  {
   "cell_type": "code",
   "execution_count": 25,
   "id": "ff8dfbeb-33f5-4e48-9aff-fc0b512abd55",
   "metadata": {},
   "outputs": [
    {
     "data": {
      "text/html": [
       "<div>\n",
       "<style scoped>\n",
       "    .dataframe tbody tr th:only-of-type {\n",
       "        vertical-align: middle;\n",
       "    }\n",
       "\n",
       "    .dataframe tbody tr th {\n",
       "        vertical-align: top;\n",
       "    }\n",
       "\n",
       "    .dataframe thead th {\n",
       "        text-align: right;\n",
       "    }\n",
       "</style>\n",
       "<table border=\"1\" class=\"dataframe\">\n",
       "  <thead>\n",
       "    <tr style=\"text-align: right;\">\n",
       "      <th></th>\n",
       "      <th>No_of_Rooms</th>\n",
       "      <th>Unit_Type</th>\n",
       "      <th>Property_Category</th>\n",
       "      <th>Locality</th>\n",
       "      <th>Price_INR</th>\n",
       "      <th>Area_sqft</th>\n",
       "      <th>Furnishing_Status</th>\n",
       "      <th>Has_Pool</th>\n",
       "      <th>Has_Gym</th>\n",
       "      <th>Has_Parking</th>\n",
       "      <th>Has_Lift</th>\n",
       "      <th>Close_to_Hospital</th>\n",
       "      <th>Power_Backup</th>\n",
       "      <th>Kids_Play_Area</th>\n",
       "    </tr>\n",
       "  </thead>\n",
       "  <tbody>\n",
       "    <tr>\n",
       "      <th>1085</th>\n",
       "      <td>5</td>\n",
       "      <td>BHK</td>\n",
       "      <td>Duplex</td>\n",
       "      <td>Jubilee Hills</td>\n",
       "      <td>1000000</td>\n",
       "      <td>6500</td>\n",
       "      <td>areaFully furnished</td>\n",
       "      <td>No</td>\n",
       "      <td>No</td>\n",
       "      <td>Yes</td>\n",
       "      <td>No</td>\n",
       "      <td>No</td>\n",
       "      <td>No</td>\n",
       "      <td>No</td>\n",
       "    </tr>\n",
       "  </tbody>\n",
       "</table>\n",
       "</div>"
      ],
      "text/plain": [
       "      No_of_Rooms Unit_Type Property_Category       Locality  Price_INR  \\\n",
       "1085            5       BHK            Duplex  Jubilee Hills    1000000   \n",
       "\n",
       "      Area_sqft    Furnishing_Status Has_Pool Has_Gym Has_Parking Has_Lift  \\\n",
       "1085       6500  areaFully furnished       No      No         Yes       No   \n",
       "\n",
       "     Close_to_Hospital Power_Backup Kids_Play_Area  \n",
       "1085                No           No             No  "
      ]
     },
     "execution_count": 25,
     "metadata": {},
     "output_type": "execute_result"
    }
   ],
   "source": [
    "df[df['Price_INR']==df['Price_INR'].max()]"
   ]
  },
  {
   "cell_type": "code",
   "execution_count": 26,
   "id": "83cdcb4c-f7e5-49eb-89cc-befde73246ca",
   "metadata": {},
   "outputs": [
    {
     "data": {
      "text/html": [
       "<div>\n",
       "<style scoped>\n",
       "    .dataframe tbody tr th:only-of-type {\n",
       "        vertical-align: middle;\n",
       "    }\n",
       "\n",
       "    .dataframe tbody tr th {\n",
       "        vertical-align: top;\n",
       "    }\n",
       "\n",
       "    .dataframe thead th {\n",
       "        text-align: right;\n",
       "    }\n",
       "</style>\n",
       "<table border=\"1\" class=\"dataframe\">\n",
       "  <thead>\n",
       "    <tr style=\"text-align: right;\">\n",
       "      <th></th>\n",
       "      <th>Locality</th>\n",
       "      <th>Property_Category</th>\n",
       "      <th>Price_INR</th>\n",
       "      <th>Area_sqft</th>\n",
       "      <th>No_of_Rooms</th>\n",
       "    </tr>\n",
       "  </thead>\n",
       "  <tbody>\n",
       "    <tr>\n",
       "      <th>1085</th>\n",
       "      <td>Jubilee Hills</td>\n",
       "      <td>Duplex</td>\n",
       "      <td>1000000</td>\n",
       "      <td>6500</td>\n",
       "      <td>5</td>\n",
       "    </tr>\n",
       "    <tr>\n",
       "      <th>2556</th>\n",
       "      <td>Khaja Guda</td>\n",
       "      <td>Villa</td>\n",
       "      <td>750000</td>\n",
       "      <td>6500</td>\n",
       "      <td>4</td>\n",
       "    </tr>\n",
       "    <tr>\n",
       "      <th>17</th>\n",
       "      <td>Jubilee Hills</td>\n",
       "      <td>Independent</td>\n",
       "      <td>700000</td>\n",
       "      <td>10000</td>\n",
       "      <td>4</td>\n",
       "    </tr>\n",
       "    <tr>\n",
       "      <th>2611</th>\n",
       "      <td>Kokapet</td>\n",
       "      <td>Independent</td>\n",
       "      <td>700000</td>\n",
       "      <td>10000</td>\n",
       "      <td>4</td>\n",
       "    </tr>\n",
       "    <tr>\n",
       "      <th>10</th>\n",
       "      <td>Jubilee Hills</td>\n",
       "      <td>Independent</td>\n",
       "      <td>600000</td>\n",
       "      <td>10000</td>\n",
       "      <td>5</td>\n",
       "    </tr>\n",
       "  </tbody>\n",
       "</table>\n",
       "</div>"
      ],
      "text/plain": [
       "           Locality Property_Category  Price_INR  Area_sqft  No_of_Rooms\n",
       "1085  Jubilee Hills            Duplex    1000000       6500            5\n",
       "2556     Khaja Guda             Villa     750000       6500            4\n",
       "17    Jubilee Hills       Independent     700000      10000            4\n",
       "2611        Kokapet       Independent     700000      10000            4\n",
       "10    Jubilee Hills       Independent     600000      10000            5"
      ]
     },
     "execution_count": 26,
     "metadata": {},
     "output_type": "execute_result"
    }
   ],
   "source": [
    "df.nlargest(5, 'Price_INR')[['Locality','Property_Category','Price_INR','Area_sqft','No_of_Rooms']]\n",
    "\n"
   ]
  },
  {
   "cell_type": "markdown",
   "id": "f58a8bcd-8e8e-4a35-be42-75b0f25da44b",
   "metadata": {},
   "source": [
    "- Mostly in **Jubilee Hills** and **Kokapet**.  \n",
    "- High-end categories: **Duplex, Villa, Independent Houses**.  \n",
    "- Prices range from ₹6,00,000 – ₹10,00,000 with large areas (6,500 – 10,000 sqft) and 4–5 rooms.  "
   ]
  },
  {
   "cell_type": "code",
   "execution_count": 27,
   "id": "4bf1c1e4-4022-4302-b61f-107996c4728e",
   "metadata": {},
   "outputs": [
    {
     "data": {
      "text/html": [
       "<div>\n",
       "<style scoped>\n",
       "    .dataframe tbody tr th:only-of-type {\n",
       "        vertical-align: middle;\n",
       "    }\n",
       "\n",
       "    .dataframe tbody tr th {\n",
       "        vertical-align: top;\n",
       "    }\n",
       "\n",
       "    .dataframe thead th {\n",
       "        text-align: right;\n",
       "    }\n",
       "</style>\n",
       "<table border=\"1\" class=\"dataframe\">\n",
       "  <thead>\n",
       "    <tr style=\"text-align: right;\">\n",
       "      <th></th>\n",
       "      <th>No_of_Rooms</th>\n",
       "      <th>Unit_Type</th>\n",
       "      <th>Property_Category</th>\n",
       "      <th>Locality</th>\n",
       "      <th>Price_INR</th>\n",
       "      <th>Area_sqft</th>\n",
       "      <th>Furnishing_Status</th>\n",
       "      <th>Has_Pool</th>\n",
       "      <th>Has_Gym</th>\n",
       "      <th>Has_Parking</th>\n",
       "      <th>Has_Lift</th>\n",
       "      <th>Close_to_Hospital</th>\n",
       "      <th>Power_Backup</th>\n",
       "      <th>Kids_Play_Area</th>\n",
       "    </tr>\n",
       "  </thead>\n",
       "  <tbody>\n",
       "    <tr>\n",
       "      <th>2985</th>\n",
       "      <td>1</td>\n",
       "      <td>RK</td>\n",
       "      <td>Independent</td>\n",
       "      <td>Nallakunta</td>\n",
       "      <td>5000</td>\n",
       "      <td>390</td>\n",
       "      <td>areaUn-furnished</td>\n",
       "      <td>No</td>\n",
       "      <td>No</td>\n",
       "      <td>No</td>\n",
       "      <td>No</td>\n",
       "      <td>Yes</td>\n",
       "      <td>No</td>\n",
       "      <td>No</td>\n",
       "    </tr>\n",
       "  </tbody>\n",
       "</table>\n",
       "</div>"
      ],
      "text/plain": [
       "      No_of_Rooms Unit_Type Property_Category    Locality  Price_INR  \\\n",
       "2985            1        RK       Independent  Nallakunta       5000   \n",
       "\n",
       "      Area_sqft Furnishing_Status Has_Pool Has_Gym Has_Parking Has_Lift  \\\n",
       "2985        390  areaUn-furnished       No      No          No       No   \n",
       "\n",
       "     Close_to_Hospital Power_Backup Kids_Play_Area  \n",
       "2985               Yes           No             No  "
      ]
     },
     "execution_count": 27,
     "metadata": {},
     "output_type": "execute_result"
    }
   ],
   "source": [
    "df[df['Price_INR']==df['Price_INR'].min()]"
   ]
  },
  {
   "cell_type": "code",
   "execution_count": 28,
   "id": "54adcb1a-bca6-44c9-9953-41599d6b5624",
   "metadata": {},
   "outputs": [
    {
     "data": {
      "text/html": [
       "<div>\n",
       "<style scoped>\n",
       "    .dataframe tbody tr th:only-of-type {\n",
       "        vertical-align: middle;\n",
       "    }\n",
       "\n",
       "    .dataframe tbody tr th {\n",
       "        vertical-align: top;\n",
       "    }\n",
       "\n",
       "    .dataframe thead th {\n",
       "        text-align: right;\n",
       "    }\n",
       "</style>\n",
       "<table border=\"1\" class=\"dataframe\">\n",
       "  <thead>\n",
       "    <tr style=\"text-align: right;\">\n",
       "      <th></th>\n",
       "      <th>Locality</th>\n",
       "      <th>Property_Category</th>\n",
       "      <th>Price_INR</th>\n",
       "      <th>Area_sqft</th>\n",
       "      <th>No_of_Rooms</th>\n",
       "    </tr>\n",
       "  </thead>\n",
       "  <tbody>\n",
       "    <tr>\n",
       "      <th>2985</th>\n",
       "      <td>Nallakunta</td>\n",
       "      <td>Independent</td>\n",
       "      <td>5000</td>\n",
       "      <td>390</td>\n",
       "      <td>1</td>\n",
       "    </tr>\n",
       "    <tr>\n",
       "      <th>2274</th>\n",
       "      <td>New Malakpet</td>\n",
       "      <td>Flat</td>\n",
       "      <td>6000</td>\n",
       "      <td>300</td>\n",
       "      <td>1</td>\n",
       "    </tr>\n",
       "    <tr>\n",
       "      <th>2861</th>\n",
       "      <td>Nallakunta</td>\n",
       "      <td>Flat</td>\n",
       "      <td>7000</td>\n",
       "      <td>700</td>\n",
       "      <td>1</td>\n",
       "    </tr>\n",
       "    <tr>\n",
       "      <th>1069</th>\n",
       "      <td>Ameerpet</td>\n",
       "      <td>Flat</td>\n",
       "      <td>7500</td>\n",
       "      <td>420</td>\n",
       "      <td>1</td>\n",
       "    </tr>\n",
       "    <tr>\n",
       "      <th>2273</th>\n",
       "      <td>Habsiguda</td>\n",
       "      <td>Independent</td>\n",
       "      <td>8000</td>\n",
       "      <td>780</td>\n",
       "      <td>1</td>\n",
       "    </tr>\n",
       "  </tbody>\n",
       "</table>\n",
       "</div>"
      ],
      "text/plain": [
       "          Locality Property_Category  Price_INR  Area_sqft  No_of_Rooms\n",
       "2985    Nallakunta       Independent       5000        390            1\n",
       "2274  New Malakpet              Flat       6000        300            1\n",
       "2861    Nallakunta              Flat       7000        700            1\n",
       "1069      Ameerpet              Flat       7500        420            1\n",
       "2273     Habsiguda       Independent       8000        780            1"
      ]
     },
     "execution_count": 28,
     "metadata": {},
     "output_type": "execute_result"
    }
   ],
   "source": [
    "df.nsmallest(5, 'Price_INR')[['Locality','Property_Category','Price_INR','Area_sqft','No_of_Rooms']]\n"
   ]
  },
  {
   "cell_type": "markdown",
   "id": "08813ac4-f71b-4152-8946-e388d050e4b0",
   "metadata": {},
   "source": [
    "- Found in **Nallakunta, New Malakpet, Ameerpet, Habsiguda**.  \n",
    "- Mostly **Flats or small Independent Houses**.  \n",
    "- Prices range from ₹5,000 – ₹8,000 with small areas (300 – 780 sqft) and 1 room.  \n"
   ]
  },
  {
   "cell_type": "markdown",
   "id": "f4764f47-2918-4d54-9469-6d7719fd7127",
   "metadata": {},
   "source": [
    "#### Average rent by locality"
   ]
  },
  {
   "cell_type": "code",
   "execution_count": 29,
   "id": "7514394c-4f22-463b-87a1-793a2624666f",
   "metadata": {},
   "outputs": [
    {
     "data": {
      "text/plain": [
       "Locality\n",
       "Amberpet                 23300.000000\n",
       "Ameerpet                 19329.268293\n",
       "Banjara Hills            86860.622222\n",
       "Begumpet                 45571.428571\n",
       "Bolarum                  45100.000000\n",
       "Borabanda                46723.555556\n",
       "Financial District       65716.115385\n",
       "Gachibowli               62754.042254\n",
       "Gopanapalli              55888.888889\n",
       "Habsiguda                33548.476190\n",
       "Hafeezpet                30039.287037\n",
       "Himayath Nagar           34878.571429\n",
       "Hitech City              78894.446429\n",
       "Hyderguda                30600.000000\n",
       "Jubilee Hills           170581.918367\n",
       "Kachiguda                32285.714286\n",
       "Khaja Guda               82312.875000\n",
       "Kokapet                 109695.080000\n",
       "Kondapur                 31649.962751\n",
       "Kothaguda                60251.375000\n",
       "Kothapet                 27133.333333\n",
       "Kukatpally               38307.695122\n",
       "LB Nagar                 37100.000000\n",
       "Madeenaguda              41833.333333\n",
       "Madhapur                 39683.000000\n",
       "Malikdanguda            114111.111111\n",
       "Manchirevula            104092.391304\n",
       "Manikonda                58860.958333\n",
       "Masab Tank               38400.000000\n",
       "Mehdipatnam              24200.000000\n",
       "Miyapur                  42522.978723\n",
       "Mokila                   85666.666667\n",
       "Nacharam                 25580.538462\n",
       "Nallagandla              51447.703704\n",
       "Nallakunta               25268.292683\n",
       "Narayanguda              38062.962963\n",
       "Narsingi                 69243.647619\n",
       "New Malakpet             25600.000000\n",
       "Nizampet                 37600.000000\n",
       "Osman Nagar              70891.666667\n",
       "Peeramcheru              62205.200000\n",
       "Pragathi Nagar           33501.400000\n",
       "Puppalaguda              45886.444444\n",
       "Rai Durg                202500.555556\n",
       "Ramachandra Puram        41301.200000\n",
       "Sanath Nagar             15764.705882\n",
       "Sanjeeva Reddy Nagar     17350.000000\n",
       "Serilingampally          50431.671875\n",
       "Shaikpet                117036.071429\n",
       "Shilpa Hills             41916.666667\n",
       "Tarnaka                  31444.444444\n",
       "Tellapur                 47737.578947\n",
       "Thummaloor               41333.333333\n",
       "Uppal                    33429.642857\n",
       "Velimela                 77000.000000\n",
       "Yousufguda               15627.777778\n",
       "Name: Price_INR, dtype: float64"
      ]
     },
     "execution_count": 29,
     "metadata": {},
     "output_type": "execute_result"
    }
   ],
   "source": [
    "df.groupby('Locality')['Price_INR'].mean()"
   ]
  },
  {
   "cell_type": "code",
   "execution_count": 30,
   "id": "8b5e9665-a9b5-4443-a769-d2cffddd8fa9",
   "metadata": {},
   "outputs": [],
   "source": [
    "avg_price = df.groupby('Locality')['Price_INR'].mean()"
   ]
  },
  {
   "cell_type": "code",
   "execution_count": 31,
   "id": "d9402834-61b2-4bb1-b73c-8185b580be0e",
   "metadata": {},
   "outputs": [
    {
     "data": {
      "text/plain": [
       "Locality\n",
       "Yousufguda              15627.777778\n",
       "Sanath Nagar            15764.705882\n",
       "Sanjeeva Reddy Nagar    17350.000000\n",
       "Ameerpet                19329.268293\n",
       "Amberpet                23300.000000\n",
       "Mehdipatnam             24200.000000\n",
       "Nallakunta              25268.292683\n",
       "Nacharam                25580.538462\n",
       "New Malakpet            25600.000000\n",
       "Kothapet                27133.333333\n",
       "Name: Price_INR, dtype: float64"
      ]
     },
     "execution_count": 31,
     "metadata": {},
     "output_type": "execute_result"
    }
   ],
   "source": [
    "avg_price.sort_values().head(10)"
   ]
  },
  {
   "cell_type": "code",
   "execution_count": 36,
   "id": "1cc4b413-089f-4fbb-884e-0eaae400910e",
   "metadata": {},
   "outputs": [
    {
     "data": {
      "image/png": "[encoded data removed]",
      "text/plain": [
       "<Figure size 800x500 with 1 Axes>"
      ]
     },
     "metadata": {},
     "output_type": "display_data"
    }
   ],
   "source": [
    "least5_loc = avg_price.sort_values().head(5)\n",
    "plt.figure(figsize=(8,5))\n",
    "bars = plt.barh(least5_loc.index[::-1], least5_loc.values[::-1], color=plt.cm.coolwarm(np.linspace(0.2, 0.8, len(least5_loc))))\n",
    "\n",
    "for bar in bars:\n",
    "    width = bar.get_width()\n",
    "    plt.text(width + 5000, bar.get_y() + bar.get_height()/2,\n",
    "             f\"{int(width):,}\", va='center', fontweight='bold')\n",
    "\n",
    "plt.title(\"Top 5 Cheapest Localities in Hyderabad (Avg Price)\", fontsize=16, fontweight='bold')\n",
    "plt.xlabel(\"Average Price (INR)\", fontsize=12)\n",
    "plt.tight_layout()\n",
    "plt.show()\n",
    "\n"
   ]
  },
  {
   "cell_type": "code",
   "execution_count": 37,
   "id": "4be17781-e42c-45cf-8ba4-2634d21a72c2",
   "metadata": {},
   "outputs": [
    {
     "data": {
      "text/plain": [
       "Locality\n",
       "Rai Durg         202500.555556\n",
       "Jubilee Hills    170581.918367\n",
       "Shaikpet         117036.071429\n",
       "Malikdanguda     114111.111111\n",
       "Kokapet          109695.080000\n",
       "Manchirevula     104092.391304\n",
       "Banjara Hills     86860.622222\n",
       "Mokila            85666.666667\n",
       "Khaja Guda        82312.875000\n",
       "Hitech City       78894.446429\n",
       "Name: Price_INR, dtype: float64"
      ]
     },
     "execution_count": 37,
     "metadata": {},
     "output_type": "execute_result"
    }
   ],
   "source": [
    "avg_price.sort_values(ascending=False).head(10)"
   ]
  },
  {
   "cell_type": "code",
   "execution_count": 39,
   "id": "7140cd64-af68-4af1-9171-0b2fd49132e6",
   "metadata": {},
   "outputs": [
    {
     "data": {
      "image/png": "[encoded data removed]",
      "text/plain": [
       "<Figure size 800x500 with 1 Axes>"
      ]
     },
     "metadata": {},
     "output_type": "display_data"
    }
   ],
   "source": [
    "\n",
    "top5_loc = avg_price.sort_values(ascending=False).head(5)\n",
    "\n",
    "plt.figure(figsize=(8,5))\n",
    "\n",
    "bars = plt.barh(top5_loc.index[::-1], top5_loc.values[::-1], color=plt.cm.viridis(np.linspace(0.2, 0.8, len(top5_loc))))\n",
    "\n",
    "for bar in bars:\n",
    "    width = bar.get_width()\n",
    "    plt.text(width + 5000, bar.get_y() + bar.get_height()/2,\n",
    "             f\"{int(width):,}\", va='center', fontweight='bold')\n",
    "\n",
    "plt.title(\"Top 5 Most Expensive Localities in Hyderabad (Avg Price)\", fontsize=16, fontweight='bold')\n",
    "plt.xlabel(\"Average Price (INR)\", fontsize=12)\n",
    "plt.tight_layout()\n",
    "plt.show()\n"
   ]
  },
  {
   "cell_type": "markdown",
   "id": "2539d4e2-16e0-4d09-9c4b-c41e92479c1c",
   "metadata": {},
   "source": [
    "#### price per sqft"
   ]
  },
  {
   "cell_type": "code",
   "execution_count": 40,
   "id": "fc4417aa-c980-4f01-8bcd-6a036cc61d96",
   "metadata": {},
   "outputs": [],
   "source": [
    "df['Price_per_sqft'] = df['Price_INR'] / df['Area_sqft']"
   ]
  },
  {
   "cell_type": "code",
   "execution_count": 41,
   "id": "c2637f21-279c-4046-9c5d-1863dc9ab099",
   "metadata": {},
   "outputs": [
    {
     "data": {
      "text/plain": [
       "count    2661.000000\n",
       "mean       30.450718\n",
       "std        41.186058\n",
       "min         3.833333\n",
       "25%        21.333333\n",
       "50%        26.666667\n",
       "75%        34.285714\n",
       "max      2000.000000\n",
       "Name: Price_per_sqft, dtype: float64"
      ]
     },
     "execution_count": 41,
     "metadata": {},
     "output_type": "execute_result"
    }
   ],
   "source": [
    "df['Price_per_sqft'].describe()"
   ]
  },
  {
   "cell_type": "code",
   "execution_count": 42,
   "id": "928bb423-0be7-475c-b089-64a3ec1e985f",
   "metadata": {},
   "outputs": [],
   "source": [
    "avg_price_per_sqft = df.groupby('Locality')['Price_per_sqft'].mean()"
   ]
  },
  {
   "cell_type": "code",
   "execution_count": 84,
   "id": "69fbd370-8edf-4f94-b514-3bc9182c4eec",
   "metadata": {},
   "outputs": [
    {
     "data": {
      "text/plain": [
       "Locality\n",
       "Nagole           3.111111\n",
       "Rasoolpura       5.000000\n",
       "Mallampet        9.259259\n",
       "Peerzadiguda    10.000000\n",
       "Sainikpuri      10.000250\n",
       "Name: Price_per_sqft, dtype: float64"
      ]
     },
     "execution_count": 84,
     "metadata": {},
     "output_type": "execute_result"
    }
   ],
   "source": [
    "avg_price_per_sqft.sort_values().head(5)"
   ]
  },
  {
   "cell_type": "code",
   "execution_count": 58,
   "id": "b6815393-66e7-4588-8325-f45848cd1c19",
   "metadata": {},
   "outputs": [
    {
     "data": {
      "image/png": "[encoded data removed]",
      "text/plain": [
       "<Figure size 800x500 with 1 Axes>"
      ]
     },
     "metadata": {},
     "output_type": "display_data"
    }
   ],
   "source": [
    "\n",
    "least5_loc = avg_price_per_sqft.sort_values().head(5)\n",
    "\n",
    "plt.figure(figsize=(8,5))\n",
    "\n",
    "bars = plt.barh(\n",
    "    least5_loc.index[::-1],  \n",
    "    least5_loc.values[::-1],\n",
    "    color=plt.cm.plasma(np.linspace(0.3, 0.7, len(least5_loc)))\n",
    ")\n",
    "\n",
    "\n",
    "for i, value in enumerate(least5_loc.values[::-1]):\n",
    "    plt.text(value + 0.2, i, f\"{value:.2f}\", va='center', fontsize=10, fontweight='bold')\n",
    "\n",
    "plt.title(\"Top 5 Cheapest Localities in Hyderabad (Avg Price per Sqft)\", fontsize=14, fontweight='bold')\n",
    "plt.xlabel(\"Average Price (INR per Sqft in Lakhs)\", fontsize=12)\n",
    "plt.ylabel(\"Locality\", fontsize=12)\n",
    "\n",
    "plt.tight_layout()\n",
    "plt.show()\n"
   ]
  },
  {
   "cell_type": "code",
   "execution_count": 80,
   "id": "67aa6060-ae7f-4e57-a2ce-f61759c97a72",
   "metadata": {},
   "outputs": [
    {
     "data": {
      "text/plain": [
       "Locality\n",
       "Gandipet         101.351351\n",
       "Jubilee Hills     81.830275\n",
       "Karmanghat        75.834176\n",
       "Sheriguda         69.166667\n",
       "Rai Durg          61.218154\n",
       "Name: Price_per_sqft, dtype: float64"
      ]
     },
     "execution_count": 80,
     "metadata": {},
     "output_type": "execute_result"
    }
   ],
   "source": [
    "avg_price_per_sqft.sort_values(ascending=False).head(5)"
   ]
  },
  {
   "cell_type": "code",
   "execution_count": 60,
   "id": "390cbc5e-11b9-45a5-9ba5-f6eabcdb0453",
   "metadata": {},
   "outputs": [
    {
     "data": {
      "image/png": "[encoded data removed]",
      "text/plain": [
       "<Figure size 800x500 with 1 Axes>"
      ]
     },
     "metadata": {},
     "output_type": "display_data"
    }
   ],
   "source": [
    "\n",
    "top5_loc = avg_price_per_sqft.sort_values(ascending=False).head(5)\n",
    "\n",
    "plt.figure(figsize=(8,5))\n",
    "\n",
    "colors = plt.cm.Set2.colors[:len(top5_loc)]\n",
    "bars = plt.barh(top5_loc.index[::-1], top5_loc.values[::-1], color=colors)\n",
    "\n",
    "for i, value in enumerate(top5_loc.values[::-1]):\n",
    "    plt.text(value - 0.5, i, f\"{value:.2f}\", va='center', ha='right', color='white', fontsize=10, fontweight='bold')\n",
    "\n",
    "plt.title(\"Top 5 Most Expensive Localities in Hyderabad (Avg Price per Sqft)\", fontsize=14, fontweight='bold')\n",
    "plt.xlabel(\"Average Price (INR per Sqft in Lakhs)\", fontsize=12)\n",
    "plt.ylabel(\"Locality\", fontsize=12)\n",
    "\n",
    "plt.tight_layout()\n",
    "plt.show()\n",
    "\n",
    "\n"
   ]
  },
  {
   "cell_type": "markdown",
   "id": "47590c1d-46c6-42dc-a64b-c32d8587f774",
   "metadata": {},
   "source": [
    "#### area vs price by no of rooms"
   ]
  },
  {
   "cell_type": "code",
   "execution_count": 66,
   "id": "d759843a-7f24-4ebd-a6fd-e307be2a6d09",
   "metadata": {},
   "outputs": [
    {
     "data": {
      "image/png": "[encoded data removed]",
      "text/plain": [
       "<Figure size 800x500 with 1 Axes>"
      ]
     },
     "metadata": {},
     "output_type": "display_data"
    }
   ],
   "source": [
    "plt.figure(figsize=(8,5))\n",
    "sns.set_style(\"whitegrid\")  \n",
    "sns.set_palette(\"viridis\")  \n",
    "\n",
    "scatter = sns.scatterplot(\n",
    "    data=df, \n",
    "    x=\"Area_sqft\", \n",
    "    y=\"Price_INR\", \n",
    "    hue=\"No_of_Rooms\", \n",
    "    palette=\"viridis\", \n",
    "    s=100,  \n",
    "    edgecolor=\"w\", \n",
    "    alpha=0.8\n",
    ")\n",
    "\n",
    "\n",
    "plt.title(\"Rental Price vs Area by Number of Rooms\", fontsize=16, weight='bold')\n",
    "plt.xlabel(\"Area (sqft)\", fontsize=12)\n",
    "plt.ylabel(\"Rent (INR)\", fontsize=12)\n",
    "plt.legend(title=\"No. of Rooms\", bbox_to_anchor=(1.05, 1), loc=2, borderaxespad=0.)\n",
    "plt.tight_layout()\n",
    "plt.show()\n"
   ]
  },
  {
   "cell_type": "code",
   "execution_count": 68,
   "id": "d12ef7df-2647-48d8-81fb-acd28a351140",
   "metadata": {},
   "outputs": [
    {
     "data": {
      "text/plain": [
       "<Axes: >"
      ]
     },
     "execution_count": 68,
     "metadata": {},
     "output_type": "execute_result"
    },
    {
     "data": {
      "image/png": "[encoded data removed]",
      "text/plain": [
       "<Figure size 640x480 with 2 Axes>"
      ]
     },
     "metadata": {},
     "output_type": "display_data"
    }
   ],
   "source": [
    "sns.heatmap(df[[\"Price_INR\", \"Area_sqft\", \"No_of_Rooms\"]].corr(), annot=True)"
   ]
  },
  {
   "cell_type": "code",
   "execution_count": 69,
   "id": "56745ac5-0486-4679-9d86-564fbbd89ac6",
   "metadata": {},
   "outputs": [
    {
     "data": {
      "text/html": [
       "<div>\n",
       "<style scoped>\n",
       "    .dataframe tbody tr th:only-of-type {\n",
       "        vertical-align: middle;\n",
       "    }\n",
       "\n",
       "    .dataframe tbody tr th {\n",
       "        vertical-align: top;\n",
       "    }\n",
       "\n",
       "    .dataframe thead th {\n",
       "        text-align: right;\n",
       "    }\n",
       "</style>\n",
       "<table border=\"1\" class=\"dataframe\">\n",
       "  <thead>\n",
       "    <tr style=\"text-align: right;\">\n",
       "      <th></th>\n",
       "      <th>No_of_Rooms</th>\n",
       "      <th>Avg_Rent</th>\n",
       "      <th>Avg_Area</th>\n",
       "      <th>Rent_per_sqft</th>\n",
       "    </tr>\n",
       "  </thead>\n",
       "  <tbody>\n",
       "    <tr>\n",
       "      <th>0</th>\n",
       "      <td>1</td>\n",
       "      <td>19034.107198</td>\n",
       "      <td>747.257274</td>\n",
       "      <td>27.388204</td>\n",
       "    </tr>\n",
       "    <tr>\n",
       "      <th>1</th>\n",
       "      <td>2</td>\n",
       "      <td>39033.216689</td>\n",
       "      <td>1387.691790</td>\n",
       "      <td>28.056549</td>\n",
       "    </tr>\n",
       "    <tr>\n",
       "      <th>2</th>\n",
       "      <td>3</td>\n",
       "      <td>63412.508788</td>\n",
       "      <td>2102.369103</td>\n",
       "      <td>30.838873</td>\n",
       "    </tr>\n",
       "    <tr>\n",
       "      <th>3</th>\n",
       "      <td>4</td>\n",
       "      <td>150076.209877</td>\n",
       "      <td>3955.160494</td>\n",
       "      <td>37.110680</td>\n",
       "    </tr>\n",
       "    <tr>\n",
       "      <th>4</th>\n",
       "      <td>5</td>\n",
       "      <td>256157.894737</td>\n",
       "      <td>4716.842105</td>\n",
       "      <td>147.213003</td>\n",
       "    </tr>\n",
       "    <tr>\n",
       "      <th>5</th>\n",
       "      <td>6</td>\n",
       "      <td>478333.333333</td>\n",
       "      <td>9400.000000</td>\n",
       "      <td>51.016260</td>\n",
       "    </tr>\n",
       "  </tbody>\n",
       "</table>\n",
       "</div>"
      ],
      "text/plain": [
       "   No_of_Rooms       Avg_Rent     Avg_Area  Rent_per_sqft\n",
       "0            1   19034.107198   747.257274      27.388204\n",
       "1            2   39033.216689  1387.691790      28.056549\n",
       "2            3   63412.508788  2102.369103      30.838873\n",
       "3            4  150076.209877  3955.160494      37.110680\n",
       "4            5  256157.894737  4716.842105     147.213003\n",
       "5            6  478333.333333  9400.000000      51.016260"
      ]
     },
     "execution_count": 69,
     "metadata": {},
     "output_type": "execute_result"
    }
   ],
   "source": [
    "df.groupby('No_of_Rooms').agg(\n",
    "    Avg_Rent=('Price_INR', 'mean'),\n",
    "    Avg_Area=('Area_sqft', 'mean'),\n",
    "    Rent_per_sqft=('Price_per_sqft', 'mean')\n",
    ").reset_index()"
   ]
  },
  {
   "cell_type": "markdown",
   "id": "5e7135a8-f0d9-4a74-b34c-1476494415a8",
   "metadata": {},
   "source": [
    "### Observations: Rental Price vs Area by Number of Rooms\n",
    "\n",
    "- Rent and area **increase with the number of rooms**.  \n",
    "- 1-room units: Avg rent ~19k, Avg area ~747 sqft, Rent per sqft ~27.4  \n",
    "- 2-room units: Avg rent ~39k, Avg area ~1,388 sqft, Rent per sqft ~28.1  \n",
    "- 3-room units: Avg rent ~63k, Avg area ~2,102 sqft, Rent per sqft ~30.8  \n",
    "- 4-room units: Avg rent ~1.5L, Avg area ~3,955 sqft, Rent per sqft ~37.1  \n",
    "- 5-room units: Avg rent ~2.56L, Avg area ~4,717 sqft, Rent per sqft ~147.2 (much higher rent per sqft)  \n",
    "- 6-room units: Avg rent ~4.78L, Avg area ~9,400 sqft, Rent per sqft ~51.0  \n",
    "\n",
    "**Insights:**  \n",
    "- Smaller units (1–3 rooms) have **lower rent per sqft**, fairly uniform.  \n",
    "- 4–6 rooms see **significant jump in rent per sqft**, especially 5-room units (likely premium or luxury properties).  \n",
    "- Scatter plot shows **wider spread in rent for larger areas**, reflecting high-end properties.\n"
   ]
  },
  {
   "cell_type": "markdown",
   "id": "acd4763b-4f7d-4430-8818-7e1d0e1274d5",
   "metadata": {},
   "source": [
    "#### Price Summary of Properties by Category\n",
    "\n"
   ]
  },
  {
   "cell_type": "code",
   "execution_count": 76,
   "id": "d7a1381a-03e9-49dd-ac8b-28e5798783c8",
   "metadata": {},
   "outputs": [
    {
     "data": {
      "image/png": "[encoded data removed]",
      "text/plain": [
       "<Figure size 600x400 with 1 Axes>"
      ]
     },
     "metadata": {},
     "output_type": "display_data"
    }
   ],
   "source": [
    "plt.figure(figsize=(6,4))\n",
    "sns.barplot(data=df, x=\"Property_Category\", y=\"Price_INR\")  \n",
    "plt.title(\"Average Price by Property Category\")\n",
    "plt.show()"
   ]
  },
  {
   "cell_type": "code",
   "execution_count": 71,
   "id": "8c14a6d4-2bb9-4a3b-a82a-37e8e75edb52",
   "metadata": {},
   "outputs": [
    {
     "data": {
      "text/html": [
       "<div>\n",
       "<style scoped>\n",
       "    .dataframe tbody tr th:only-of-type {\n",
       "        vertical-align: middle;\n",
       "    }\n",
       "\n",
       "    .dataframe tbody tr th {\n",
       "        vertical-align: top;\n",
       "    }\n",
       "\n",
       "    .dataframe thead th {\n",
       "        text-align: right;\n",
       "    }\n",
       "</style>\n",
       "<table border=\"1\" class=\"dataframe\">\n",
       "  <thead>\n",
       "    <tr style=\"text-align: right;\">\n",
       "      <th></th>\n",
       "      <th>min</th>\n",
       "      <th>max</th>\n",
       "      <th>mean</th>\n",
       "    </tr>\n",
       "    <tr>\n",
       "      <th>Property_Category</th>\n",
       "      <th></th>\n",
       "      <th></th>\n",
       "      <th></th>\n",
       "    </tr>\n",
       "  </thead>\n",
       "  <tbody>\n",
       "    <tr>\n",
       "      <th>Duplex</th>\n",
       "      <td>30000</td>\n",
       "      <td>1000000</td>\n",
       "      <td>149272.727273</td>\n",
       "    </tr>\n",
       "    <tr>\n",
       "      <th>Flat</th>\n",
       "      <td>6000</td>\n",
       "      <td>500000</td>\n",
       "      <td>50323.987222</td>\n",
       "    </tr>\n",
       "    <tr>\n",
       "      <th>Independent</th>\n",
       "      <td>5000</td>\n",
       "      <td>700000</td>\n",
       "      <td>69238.544379</td>\n",
       "    </tr>\n",
       "    <tr>\n",
       "      <th>Penthouse</th>\n",
       "      <td>11000</td>\n",
       "      <td>55000</td>\n",
       "      <td>30990.818182</td>\n",
       "    </tr>\n",
       "    <tr>\n",
       "      <th>Villa</th>\n",
       "      <td>21000</td>\n",
       "      <td>750000</td>\n",
       "      <td>109636.681818</td>\n",
       "    </tr>\n",
       "  </tbody>\n",
       "</table>\n",
       "</div>"
      ],
      "text/plain": [
       "                     min      max           mean\n",
       "Property_Category                               \n",
       "Duplex             30000  1000000  149272.727273\n",
       "Flat                6000   500000   50323.987222\n",
       "Independent         5000   700000   69238.544379\n",
       "Penthouse          11000    55000   30990.818182\n",
       "Villa              21000   750000  109636.681818"
      ]
     },
     "execution_count": 71,
     "metadata": {},
     "output_type": "execute_result"
    }
   ],
   "source": [
    "df.groupby(\"Property_Category\")[\"Price_INR\"].agg([\"min\",\"max\",\"mean\"])"
   ]
  },
  {
   "cell_type": "markdown",
   "id": "aea650ab-2401-42a2-9632-5935408739cf",
   "metadata": {},
   "source": [
    "### Observations from Property Price Data\n",
    "\n",
    "- **Duplexes**: Highest max price (1,000,000) and highest mean price (~149,273), indicating premium properties mostly in this category.  \n",
    "- **Flats**: Most affordable, with a min price of 6,000 and mean price around 50,324.  \n",
    "- **Independent Houses**: Mid-range properties, mean price ~69,239, max 700,000.  \n",
    "- **Penthouses**: Small sample, lower max price (55,000) and mean (~30,991).  \n",
    "- **Villas**: High-value properties, mean price ~109,637, max 750,000.  \n"
   ]
  },
  {
   "cell_type": "markdown",
   "id": "3d29399e-2aa7-471f-b8d1-757298ea30f3",
   "metadata": {},
   "source": [
    "#### Most Common Property Types by Locality\n"
   ]
  },
  {
   "cell_type": "code",
   "execution_count": 72,
   "id": "c03d2716-01e4-4a59-855c-01a15fd3b9e2",
   "metadata": {},
   "outputs": [
    {
     "data": {
      "text/plain": [
       "Property_Category  Locality     \n",
       "Duplex             Banjara Hills    2\n",
       "                   Kothapet         2\n",
       "                   Amberpet         1\n",
       "                   Jubilee Hills    1\n",
       "                   Madhapur         1\n",
       "                                   ..\n",
       "Villa              Nallagandla      1\n",
       "                   Narayanguda      1\n",
       "                   Narsingi         1\n",
       "                   Nizampet         1\n",
       "                   Shaikpet         1\n",
       "Name: count, Length: 125, dtype: int64"
      ]
     },
     "execution_count": 72,
     "metadata": {},
     "output_type": "execute_result"
    }
   ],
   "source": [
    "df.groupby(\"Property_Category\")[\"Locality\"].value_counts()"
   ]
  },
  {
   "cell_type": "code",
   "execution_count": 73,
   "id": "9da2ac93-122f-4edf-9084-3026089b36d5",
   "metadata": {},
   "outputs": [
    {
     "data": {
      "text/plain": [
       "Property_Category  Locality          \n",
       "Duplex             Banjara Hills           2\n",
       "Flat               Kondapur              689\n",
       "Independent        Kukatpally             47\n",
       "Penthouse          Financial District      4\n",
       "Villa              Malikdanguda            5\n",
       "Name: count, dtype: int64"
      ]
     },
     "execution_count": 73,
     "metadata": {},
     "output_type": "execute_result"
    }
   ],
   "source": [
    "df.groupby(\"Property_Category\")[\"Locality\"].value_counts().groupby(level=0).head(1)"
   ]
  },
  {
   "cell_type": "code",
   "execution_count": 74,
   "id": "1652bdac-0170-4500-b677-2b17615691ca",
   "metadata": {},
   "outputs": [],
   "source": [
    "dfl=df.groupby(\"Property_Category\")[\"Locality\"].value_counts().reset_index()"
   ]
  },
  {
   "cell_type": "code",
   "execution_count": 75,
   "id": "33fae310-d227-4a35-af70-18331f45be86",
   "metadata": {},
   "outputs": [
    {
     "data": {
      "text/html": [
       "<div>\n",
       "<style scoped>\n",
       "    .dataframe tbody tr th:only-of-type {\n",
       "        vertical-align: middle;\n",
       "    }\n",
       "\n",
       "    .dataframe tbody tr th {\n",
       "        vertical-align: top;\n",
       "    }\n",
       "\n",
       "    .dataframe thead th {\n",
       "        text-align: right;\n",
       "    }\n",
       "</style>\n",
       "<table border=\"1\" class=\"dataframe\">\n",
       "  <thead>\n",
       "    <tr style=\"text-align: right;\">\n",
       "      <th></th>\n",
       "      <th>Property_Category</th>\n",
       "      <th>Locality</th>\n",
       "      <th>count</th>\n",
       "    </tr>\n",
       "  </thead>\n",
       "  <tbody>\n",
       "    <tr>\n",
       "      <th>0</th>\n",
       "      <td>Duplex</td>\n",
       "      <td>Banjara Hills</td>\n",
       "      <td>2</td>\n",
       "    </tr>\n",
       "    <tr>\n",
       "      <th>9</th>\n",
       "      <td>Flat</td>\n",
       "      <td>Kondapur</td>\n",
       "      <td>689</td>\n",
       "    </tr>\n",
       "    <tr>\n",
       "      <th>64</th>\n",
       "      <td>Independent</td>\n",
       "      <td>Kukatpally</td>\n",
       "      <td>47</td>\n",
       "    </tr>\n",
       "    <tr>\n",
       "      <th>97</th>\n",
       "      <td>Penthouse</td>\n",
       "      <td>Financial District</td>\n",
       "      <td>4</td>\n",
       "    </tr>\n",
       "    <tr>\n",
       "      <th>104</th>\n",
       "      <td>Villa</td>\n",
       "      <td>Malikdanguda</td>\n",
       "      <td>5</td>\n",
       "    </tr>\n",
       "  </tbody>\n",
       "</table>\n",
       "</div>"
      ],
      "text/plain": [
       "    Property_Category            Locality  count\n",
       "0              Duplex       Banjara Hills      2\n",
       "9                Flat            Kondapur    689\n",
       "64        Independent          Kukatpally     47\n",
       "97          Penthouse  Financial District      4\n",
       "104             Villa        Malikdanguda      5"
      ]
     },
     "execution_count": 75,
     "metadata": {},
     "output_type": "execute_result"
    }
   ],
   "source": [
    "dfl.drop_duplicates(subset=[\"Property_Category\"], keep=\"first\")"
   ]
  },
  {
   "cell_type": "markdown",
   "id": "22bcbc4b-c1cc-49f8-8ce1-91135da881e5",
   "metadata": {},
   "source": [
    "### Observations from Property Data\n",
    "\n",
    "- Flats are the most common property type, especially in Kondapur (689 properties).  \n",
    "- Independent houses are more prevalent in Kukatpally (47 properties).  \n",
    "- Duplexes are mostly found in Banjara Hills (2 properties).  \n",
    "- Penthouses are concentrated in the Financial District (4 properties).  \n",
    "- Villas are slightly more in Malikdanguda (5 properties).  \n"
   ]
  },
  {
   "cell_type": "markdown",
   "id": "b07bcf6d-8ca0-4ad0-95ad-17a05cf279a5",
   "metadata": {},
   "source": [
    "### Ameneties effect on Rent"
   ]
  },
  {
   "cell_type": "code",
   "execution_count": 77,
   "id": "fc06e9e0-7bf6-409e-894f-d9e13f9e4be6",
   "metadata": {},
   "outputs": [
    {
     "data": {
      "text/html": [
       "<div>\n",
       "<style scoped>\n",
       "    .dataframe tbody tr th:only-of-type {\n",
       "        vertical-align: middle;\n",
       "    }\n",
       "\n",
       "    .dataframe tbody tr th {\n",
       "        vertical-align: top;\n",
       "    }\n",
       "\n",
       "    .dataframe thead th {\n",
       "        text-align: right;\n",
       "    }\n",
       "</style>\n",
       "<table border=\"1\" class=\"dataframe\">\n",
       "  <thead>\n",
       "    <tr style=\"text-align: right;\">\n",
       "      <th></th>\n",
       "      <th>Amenity</th>\n",
       "      <th>Yes_Avg_Price</th>\n",
       "      <th>No_Avg_Price</th>\n",
       "    </tr>\n",
       "  </thead>\n",
       "  <tbody>\n",
       "    <tr>\n",
       "      <th>0</th>\n",
       "      <td>Has_Pool</td>\n",
       "      <td>74799.964450</td>\n",
       "      <td>42128.927334</td>\n",
       "    </tr>\n",
       "    <tr>\n",
       "      <th>1</th>\n",
       "      <td>Has_Gym</td>\n",
       "      <td>74430.678212</td>\n",
       "      <td>41890.579275</td>\n",
       "    </tr>\n",
       "    <tr>\n",
       "      <th>2</th>\n",
       "      <td>Has_Parking</td>\n",
       "      <td>59684.653871</td>\n",
       "      <td>43084.795993</td>\n",
       "    </tr>\n",
       "    <tr>\n",
       "      <th>3</th>\n",
       "      <td>Has_Lift</td>\n",
       "      <td>57823.222222</td>\n",
       "      <td>47835.732129</td>\n",
       "    </tr>\n",
       "    <tr>\n",
       "      <th>4</th>\n",
       "      <td>Close_to_Hospital</td>\n",
       "      <td>28663.510730</td>\n",
       "      <td>55154.704283</td>\n",
       "    </tr>\n",
       "    <tr>\n",
       "      <th>5</th>\n",
       "      <td>Power_Backup</td>\n",
       "      <td>54822.024664</td>\n",
       "      <td>52435.032506</td>\n",
       "    </tr>\n",
       "    <tr>\n",
       "      <th>6</th>\n",
       "      <td>Kids_Play_Area</td>\n",
       "      <td>48153.333333</td>\n",
       "      <td>52861.647770</td>\n",
       "    </tr>\n",
       "  </tbody>\n",
       "</table>\n",
       "</div>"
      ],
      "text/plain": [
       "             Amenity  Yes_Avg_Price  No_Avg_Price\n",
       "0           Has_Pool   74799.964450  42128.927334\n",
       "1            Has_Gym   74430.678212  41890.579275\n",
       "2        Has_Parking   59684.653871  43084.795993\n",
       "3           Has_Lift   57823.222222  47835.732129\n",
       "4  Close_to_Hospital   28663.510730  55154.704283\n",
       "5       Power_Backup   54822.024664  52435.032506\n",
       "6     Kids_Play_Area   48153.333333  52861.647770"
      ]
     },
     "execution_count": 77,
     "metadata": {},
     "output_type": "execute_result"
    }
   ],
   "source": [
    "amenities = ['Has_Pool', 'Has_Gym', 'Has_Parking', 'Has_Lift', \n",
    "             'Close_to_Hospital', 'Power_Backup', 'Kids_Play_Area']\n",
    "rows = []\n",
    "for amenity in amenities:\n",
    "    yes_avg = df[df[amenity] == 'Yes']['Price_INR'].mean()\n",
    "    no_avg = df[df[amenity] == 'No']['Price_INR'].mean()\n",
    "    rows.append({'Amenity': amenity, 'Yes_Avg_Price': yes_avg, 'No_Avg_Price': no_avg})\n",
    "\n",
    "avg_price_table = pd.DataFrame(rows)\n",
    "avg_price_table\n"
   ]
  },
  {
   "cell_type": "code",
   "execution_count": 78,
   "id": "338780c4-3740-41ff-a1b6-7459c2738d55",
   "metadata": {},
   "outputs": [
    {
     "data": {
      "image/png": "[encoded data removed]",
      "text/plain": [
       "<Figure size 1000x600 with 1 Axes>"
      ]
     },
     "metadata": {},
     "output_type": "display_data"
    }
   ],
   "source": [
    "x = np.arange(len(avg_price_table['Amenity']))\n",
    "width = 0.35 \n",
    "\n",
    "plt.figure(figsize=(10,6))\n",
    "plt.bar(x - width/2, avg_price_table['Yes_Avg_Price'], width, label='Yes')\n",
    "plt.bar(x + width/2, avg_price_table['No_Avg_Price'], width, label='No')\n",
    "\n",
    "plt.xlabel('Amenity')\n",
    "plt.ylabel('Average Price')\n",
    "plt.title('Average Price by Amenity')\n",
    "plt.xticks(x, avg_price_table['Amenity'], rotation=45)\n",
    "plt.legend()\n",
    "plt.show()"
   ]
  },
  {
   "cell_type": "markdown",
   "id": "0f29e09a-217b-477f-8822-b93daa14a0e6",
   "metadata": {},
   "source": [
    "**Impact of Amenities on Property Prices:**  \n",
    "\n",
    "Properties with amenities like **pool, gym, parking, lift, and power backup** generally have higher prices.  \n",
    "However, being **close to a hospital or having a kids play area** does not always increase the property price.\n"
   ]
  },
  {
   "cell_type": "markdown",
   "id": "2aae92cd-c494-4d05-bda4-7b086fa118d0",
   "metadata": {},
   "source": [
    "#### Furnishing effect on rent"
   ]
  },
  {
   "cell_type": "code",
   "execution_count": 79,
   "id": "b75e7168-4aa1-4522-867a-e388004b93e2",
   "metadata": {},
   "outputs": [
    {
     "data": {
      "image/png": "[encoded data removed]",
      "text/plain": [
       "<Figure size 600x600 with 1 Axes>"
      ]
     },
     "metadata": {},
     "output_type": "display_data"
    }
   ],
   "source": [
    "data = df.groupby('Furnishing_Status')['Price_INR'].mean()\n",
    "plt.figure(figsize=(6,6))\n",
    "plt.pie(data, labels=data.index, autopct='%1.1f%%', startangle=90, colors=['#ff9999','#66b3ff','#99ff99'])\n",
    "plt.title('Average Rent by Furnishing Status')\n",
    "plt.show()"
   ]
  },
  {
   "cell_type": "markdown",
   "id": "da8f5ab4-6d76-40d5-a9d7-51d828167402",
   "metadata": {},
   "source": [
    "**Furnishing Impact on Property Prices:**  \n",
    "\n",
    "- **Fully furnished:** ~62,778 INR (highest)  \n",
    "- **Semi-furnished:** ~54,195 INR  \n",
    "- **Unfurnished:** ~17,774 INR (lowest)  \n",
    "\n",
    "> Furnishing clearly has a significant impact on property pricing.\n",
    "\n"
   ]
  },
  {
   "cell_type": "markdown",
   "id": "b8cb9a68-0bd4-410e-8726-4cd6ae0b5b60",
   "metadata": {},
   "source": [
    "### 🏢 KEY BUSINESS INSIGHTS"
   ]
  },
  {
   "attachments": {},
   "cell_type": "markdown",
   "id": "6f903608-685e-499e-a499-598569ebb4a5",
   "metadata": {},
   "source": [
    "- **Furnished houses** cost **25–35%** more than unfurnished ones. \n",
    "- **Most Expensive & Affordable Localities**:  \n",
    "  - **Expensive**: Jubilee Hills ,Kokapet , Financial District\n",
    "  - **Affordable**: Sanath Nagar, Amberpet\n",
    "- **Impact of Amenities on Rent**:  \n",
    "  - Flats with **both Gym and Parking** charge **20-25% higher rents**.  \n",
    "  - Availability of **Power Backup and Lift** increases rent by **10-15%**.  \n",
    "- **BHK Influence**: **3BHK units** cost **40-50% more** than **2BHK units** on average.  \n",
    "- **Proximity to IT Hubs**: Localities near **Gachibowli, Madhapur, and Hitech City** show the **highest demand** and **rent per sqft**.  \n",
    "- **Top Factors Correlated with Rent**:  \n",
    "  - `Area_sqft`  \n",
    "  - `No_of_Rooms`\n"
   ]
  },
  {
   "cell_type": "markdown",
   "id": "ac0cb1f4-bd5d-4bec-9bd5-86a24efd597e",
   "metadata": {},
   "source": [
    "## Conclusions on Hyderabad's Rental Market\n",
    "\n",
    "- **Key Drivers**: Locality, apartment size, and amenities are the main factors influencing rent.  \n",
    "- **Premium vs Affordable Areas**:  \n",
    "  - Premium zones near **IT corridors** command higher rents.  \n",
    "  - Well-connected **outskirts** provide more affordable options.  \n",
    "- **Impact of Amenities**: Adding essential amenities and furnishing boosts rental returns.  \n",
    "- **Most Profitable Segment**: Mid-size, amenity-rich apartments offer the **best returns** for both owners and investors.\n"
   ]
  },
  {
   "cell_type": "code",
   "execution_count": null,
   "id": "8775b195-4e61-4976-bfa7-0d041d65f1b8",
   "metadata": {},
   "outputs": [],
   "source": []
  }
 ],
 "metadata": {
  "kernelspec": {
   "display_name": "Python [conda env:base] *",
   "language": "python",
   "name": "conda-base-py"
  },
  "language_info": {
   "codemirror_mode": {
    "name": "ipython",
    "version": 3
   },
   "file_extension": ".py",
   "mimetype": "text/x-python",
   "name": "python",
   "nbconvert_exporter": "python",
   "pygments_lexer": "ipython3",
   "version": "3.12.7"
  }
 },
 "nbformat": 4,
 "nbformat_minor": 5
}
